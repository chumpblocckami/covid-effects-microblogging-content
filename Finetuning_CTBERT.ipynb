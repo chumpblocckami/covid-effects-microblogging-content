{
  "nbformat": 4,
  "nbformat_minor": 0,
  "metadata": {
    "accelerator": "GPU",
    "colab": {
      "name": "Benchmark_SentimentAnalysis.ipynb",
      "provenance": [],
      "collapsed_sections": [
        "xLJme2x6Pxjj",
        "o7FOzlvCLF1G",
        "3Y243Rktj6vp",
        "PdFd4btK1bGF",
        "EReE_ahlUaYv",
        "Lm78owXVSuSG",
        "qUglREIcTljR",
        "JQEea8Trq1os",
        "rjPEexSTkcpr",
        "ydzxvD2yiORu",
        "KNuyolKac1Us",
        "HEishM18rAxp"
      ],
      "toc_visible": true
    },
    "kernelspec": {
      "display_name": "Python 3",
      "name": "python3"
    },
    "widgets": {
      "application/vnd.jupyter.widget-state+json": {
        "694facdc2de642e8b7e2c67ce8401656": {
          "model_module": "@jupyter-widgets/controls",
          "model_name": "HBoxModel",
          "state": {
            "_view_name": "HBoxView",
            "_dom_classes": [],
            "_model_name": "HBoxModel",
            "_view_module": "@jupyter-widgets/controls",
            "_model_module_version": "1.5.0",
            "_view_count": null,
            "_view_module_version": "1.5.0",
            "box_style": "",
            "layout": "IPY_MODEL_d9fb1602b60442548e0ba8132c4e87d7",
            "_model_module": "@jupyter-widgets/controls",
            "children": [
              "IPY_MODEL_4e7df720e81a48ebab4ee66c1d31054d",
              "IPY_MODEL_3d8b591fcd6f443ea4240cbcb5a9284c"
            ]
          }
        },
        "d9fb1602b60442548e0ba8132c4e87d7": {
          "model_module": "@jupyter-widgets/base",
          "model_name": "LayoutModel",
          "state": {
            "_view_name": "LayoutView",
            "grid_template_rows": null,
            "right": null,
            "justify_content": null,
            "_view_module": "@jupyter-widgets/base",
            "overflow": null,
            "_model_module_version": "1.2.0",
            "_view_count": null,
            "flex_flow": null,
            "width": null,
            "min_width": null,
            "border": null,
            "align_items": null,
            "bottom": null,
            "_model_module": "@jupyter-widgets/base",
            "top": null,
            "grid_column": null,
            "overflow_y": null,
            "overflow_x": null,
            "grid_auto_flow": null,
            "grid_area": null,
            "grid_template_columns": null,
            "flex": null,
            "_model_name": "LayoutModel",
            "justify_items": null,
            "grid_row": null,
            "max_height": null,
            "align_content": null,
            "visibility": null,
            "align_self": null,
            "height": null,
            "min_height": null,
            "padding": null,
            "grid_auto_rows": null,
            "grid_gap": null,
            "max_width": null,
            "order": null,
            "_view_module_version": "1.2.0",
            "grid_template_areas": null,
            "object_position": null,
            "object_fit": null,
            "grid_auto_columns": null,
            "margin": null,
            "display": null,
            "left": null
          }
        },
        "4e7df720e81a48ebab4ee66c1d31054d": {
          "model_module": "@jupyter-widgets/controls",
          "model_name": "FloatProgressModel",
          "state": {
            "_view_name": "ProgressView",
            "style": "IPY_MODEL_3915e8edb2634c678d94b68849b7c241",
            "_dom_classes": [],
            "description": "Downloading: 100%",
            "_model_name": "FloatProgressModel",
            "bar_style": "success",
            "max": 1472566816,
            "_view_module": "@jupyter-widgets/controls",
            "_model_module_version": "1.5.0",
            "value": 1472566816,
            "_view_count": null,
            "_view_module_version": "1.5.0",
            "orientation": "horizontal",
            "min": 0,
            "description_tooltip": null,
            "_model_module": "@jupyter-widgets/controls",
            "layout": "IPY_MODEL_1585dfbf4c094846893de48b9cefa032"
          }
        },
        "3d8b591fcd6f443ea4240cbcb5a9284c": {
          "model_module": "@jupyter-widgets/controls",
          "model_name": "HTMLModel",
          "state": {
            "_view_name": "HTMLView",
            "style": "IPY_MODEL_b7e0b773027f42eb9ac2017b93b90a57",
            "_dom_classes": [],
            "description": "",
            "_model_name": "HTMLModel",
            "placeholder": "​",
            "_view_module": "@jupyter-widgets/controls",
            "_model_module_version": "1.5.0",
            "value": " 1.47G/1.47G [00:22&lt;00:00, 66.3MB/s]",
            "_view_count": null,
            "_view_module_version": "1.5.0",
            "description_tooltip": null,
            "_model_module": "@jupyter-widgets/controls",
            "layout": "IPY_MODEL_f2b3389ae53b41868ef9c51f1bdc1fe8"
          }
        },
        "3915e8edb2634c678d94b68849b7c241": {
          "model_module": "@jupyter-widgets/controls",
          "model_name": "ProgressStyleModel",
          "state": {
            "_view_name": "StyleView",
            "_model_name": "ProgressStyleModel",
            "description_width": "initial",
            "_view_module": "@jupyter-widgets/base",
            "_model_module_version": "1.5.0",
            "_view_count": null,
            "_view_module_version": "1.2.0",
            "bar_color": null,
            "_model_module": "@jupyter-widgets/controls"
          }
        },
        "1585dfbf4c094846893de48b9cefa032": {
          "model_module": "@jupyter-widgets/base",
          "model_name": "LayoutModel",
          "state": {
            "_view_name": "LayoutView",
            "grid_template_rows": null,
            "right": null,
            "justify_content": null,
            "_view_module": "@jupyter-widgets/base",
            "overflow": null,
            "_model_module_version": "1.2.0",
            "_view_count": null,
            "flex_flow": null,
            "width": null,
            "min_width": null,
            "border": null,
            "align_items": null,
            "bottom": null,
            "_model_module": "@jupyter-widgets/base",
            "top": null,
            "grid_column": null,
            "overflow_y": null,
            "overflow_x": null,
            "grid_auto_flow": null,
            "grid_area": null,
            "grid_template_columns": null,
            "flex": null,
            "_model_name": "LayoutModel",
            "justify_items": null,
            "grid_row": null,
            "max_height": null,
            "align_content": null,
            "visibility": null,
            "align_self": null,
            "height": null,
            "min_height": null,
            "padding": null,
            "grid_auto_rows": null,
            "grid_gap": null,
            "max_width": null,
            "order": null,
            "_view_module_version": "1.2.0",
            "grid_template_areas": null,
            "object_position": null,
            "object_fit": null,
            "grid_auto_columns": null,
            "margin": null,
            "display": null,
            "left": null
          }
        },
        "b7e0b773027f42eb9ac2017b93b90a57": {
          "model_module": "@jupyter-widgets/controls",
          "model_name": "DescriptionStyleModel",
          "state": {
            "_view_name": "StyleView",
            "_model_name": "DescriptionStyleModel",
            "description_width": "",
            "_view_module": "@jupyter-widgets/base",
            "_model_module_version": "1.5.0",
            "_view_count": null,
            "_view_module_version": "1.2.0",
            "_model_module": "@jupyter-widgets/controls"
          }
        },
        "f2b3389ae53b41868ef9c51f1bdc1fe8": {
          "model_module": "@jupyter-widgets/base",
          "model_name": "LayoutModel",
          "state": {
            "_view_name": "LayoutView",
            "grid_template_rows": null,
            "right": null,
            "justify_content": null,
            "_view_module": "@jupyter-widgets/base",
            "overflow": null,
            "_model_module_version": "1.2.0",
            "_view_count": null,
            "flex_flow": null,
            "width": null,
            "min_width": null,
            "border": null,
            "align_items": null,
            "bottom": null,
            "_model_module": "@jupyter-widgets/base",
            "top": null,
            "grid_column": null,
            "overflow_y": null,
            "overflow_x": null,
            "grid_auto_flow": null,
            "grid_area": null,
            "grid_template_columns": null,
            "flex": null,
            "_model_name": "LayoutModel",
            "justify_items": null,
            "grid_row": null,
            "max_height": null,
            "align_content": null,
            "visibility": null,
            "align_self": null,
            "height": null,
            "min_height": null,
            "padding": null,
            "grid_auto_rows": null,
            "grid_gap": null,
            "max_width": null,
            "order": null,
            "_view_module_version": "1.2.0",
            "grid_template_areas": null,
            "object_position": null,
            "object_fit": null,
            "grid_auto_columns": null,
            "margin": null,
            "display": null,
            "left": null
          }
        },
        "cd5c267f419540d5a9d08e667246acc1": {
          "model_module": "@jupyter-widgets/controls",
          "model_name": "HBoxModel",
          "state": {
            "_view_name": "HBoxView",
            "_dom_classes": [],
            "_model_name": "HBoxModel",
            "_view_module": "@jupyter-widgets/controls",
            "_model_module_version": "1.5.0",
            "_view_count": null,
            "_view_module_version": "1.5.0",
            "box_style": "",
            "layout": "IPY_MODEL_6020cea54b504c478dbb39ea9d9ba3a1",
            "_model_module": "@jupyter-widgets/controls",
            "children": [
              "IPY_MODEL_0ec647348b51409bae1066feae63901f",
              "IPY_MODEL_9dd9bf7e84b742b4a1ded3f6cc6f84c9"
            ]
          }
        },
        "6020cea54b504c478dbb39ea9d9ba3a1": {
          "model_module": "@jupyter-widgets/base",
          "model_name": "LayoutModel",
          "state": {
            "_view_name": "LayoutView",
            "grid_template_rows": null,
            "right": null,
            "justify_content": null,
            "_view_module": "@jupyter-widgets/base",
            "overflow": null,
            "_model_module_version": "1.2.0",
            "_view_count": null,
            "flex_flow": null,
            "width": null,
            "min_width": null,
            "border": null,
            "align_items": null,
            "bottom": null,
            "_model_module": "@jupyter-widgets/base",
            "top": null,
            "grid_column": null,
            "overflow_y": null,
            "overflow_x": null,
            "grid_auto_flow": null,
            "grid_area": null,
            "grid_template_columns": null,
            "flex": null,
            "_model_name": "LayoutModel",
            "justify_items": null,
            "grid_row": null,
            "max_height": null,
            "align_content": null,
            "visibility": null,
            "align_self": null,
            "height": null,
            "min_height": null,
            "padding": null,
            "grid_auto_rows": null,
            "grid_gap": null,
            "max_width": null,
            "order": null,
            "_view_module_version": "1.2.0",
            "grid_template_areas": null,
            "object_position": null,
            "object_fit": null,
            "grid_auto_columns": null,
            "margin": null,
            "display": null,
            "left": null
          }
        },
        "0ec647348b51409bae1066feae63901f": {
          "model_module": "@jupyter-widgets/controls",
          "model_name": "FloatProgressModel",
          "state": {
            "_view_name": "ProgressView",
            "style": "IPY_MODEL_0d7c9ee806e6443199b1556ded693c60",
            "_dom_classes": [],
            "description": "100%",
            "_model_name": "FloatProgressModel",
            "bar_style": "success",
            "max": 52,
            "_view_module": "@jupyter-widgets/controls",
            "_model_module_version": "1.5.0",
            "value": 52,
            "_view_count": null,
            "_view_module_version": "1.5.0",
            "orientation": "horizontal",
            "min": 0,
            "description_tooltip": null,
            "_model_module": "@jupyter-widgets/controls",
            "layout": "IPY_MODEL_619dfe6ff9d14219b083514a0713d9fd"
          }
        },
        "9dd9bf7e84b742b4a1ded3f6cc6f84c9": {
          "model_module": "@jupyter-widgets/controls",
          "model_name": "HTMLModel",
          "state": {
            "_view_name": "HTMLView",
            "style": "IPY_MODEL_82a19a1c93d1432b90cb9340ba2fbcc3",
            "_dom_classes": [],
            "description": "",
            "_model_name": "HTMLModel",
            "placeholder": "​",
            "_view_module": "@jupyter-widgets/controls",
            "_model_module_version": "1.5.0",
            "value": " 52/52 [05:49&lt;00:00,  6.71s/it]",
            "_view_count": null,
            "_view_module_version": "1.5.0",
            "description_tooltip": null,
            "_model_module": "@jupyter-widgets/controls",
            "layout": "IPY_MODEL_f2d04a87245147e885730f600b67006b"
          }
        },
        "0d7c9ee806e6443199b1556ded693c60": {
          "model_module": "@jupyter-widgets/controls",
          "model_name": "ProgressStyleModel",
          "state": {
            "_view_name": "StyleView",
            "_model_name": "ProgressStyleModel",
            "description_width": "initial",
            "_view_module": "@jupyter-widgets/base",
            "_model_module_version": "1.5.0",
            "_view_count": null,
            "_view_module_version": "1.2.0",
            "bar_color": null,
            "_model_module": "@jupyter-widgets/controls"
          }
        },
        "619dfe6ff9d14219b083514a0713d9fd": {
          "model_module": "@jupyter-widgets/base",
          "model_name": "LayoutModel",
          "state": {
            "_view_name": "LayoutView",
            "grid_template_rows": null,
            "right": null,
            "justify_content": null,
            "_view_module": "@jupyter-widgets/base",
            "overflow": null,
            "_model_module_version": "1.2.0",
            "_view_count": null,
            "flex_flow": null,
            "width": null,
            "min_width": null,
            "border": null,
            "align_items": null,
            "bottom": null,
            "_model_module": "@jupyter-widgets/base",
            "top": null,
            "grid_column": null,
            "overflow_y": null,
            "overflow_x": null,
            "grid_auto_flow": null,
            "grid_area": null,
            "grid_template_columns": null,
            "flex": null,
            "_model_name": "LayoutModel",
            "justify_items": null,
            "grid_row": null,
            "max_height": null,
            "align_content": null,
            "visibility": null,
            "align_self": null,
            "height": null,
            "min_height": null,
            "padding": null,
            "grid_auto_rows": null,
            "grid_gap": null,
            "max_width": null,
            "order": null,
            "_view_module_version": "1.2.0",
            "grid_template_areas": null,
            "object_position": null,
            "object_fit": null,
            "grid_auto_columns": null,
            "margin": null,
            "display": null,
            "left": null
          }
        },
        "82a19a1c93d1432b90cb9340ba2fbcc3": {
          "model_module": "@jupyter-widgets/controls",
          "model_name": "DescriptionStyleModel",
          "state": {
            "_view_name": "StyleView",
            "_model_name": "DescriptionStyleModel",
            "description_width": "",
            "_view_module": "@jupyter-widgets/base",
            "_model_module_version": "1.5.0",
            "_view_count": null,
            "_view_module_version": "1.2.0",
            "_model_module": "@jupyter-widgets/controls"
          }
        },
        "f2d04a87245147e885730f600b67006b": {
          "model_module": "@jupyter-widgets/base",
          "model_name": "LayoutModel",
          "state": {
            "_view_name": "LayoutView",
            "grid_template_rows": null,
            "right": null,
            "justify_content": null,
            "_view_module": "@jupyter-widgets/base",
            "overflow": null,
            "_model_module_version": "1.2.0",
            "_view_count": null,
            "flex_flow": null,
            "width": null,
            "min_width": null,
            "border": null,
            "align_items": null,
            "bottom": null,
            "_model_module": "@jupyter-widgets/base",
            "top": null,
            "grid_column": null,
            "overflow_y": null,
            "overflow_x": null,
            "grid_auto_flow": null,
            "grid_area": null,
            "grid_template_columns": null,
            "flex": null,
            "_model_name": "LayoutModel",
            "justify_items": null,
            "grid_row": null,
            "max_height": null,
            "align_content": null,
            "visibility": null,
            "align_self": null,
            "height": null,
            "min_height": null,
            "padding": null,
            "grid_auto_rows": null,
            "grid_gap": null,
            "max_width": null,
            "order": null,
            "_view_module_version": "1.2.0",
            "grid_template_areas": null,
            "object_position": null,
            "object_fit": null,
            "grid_auto_columns": null,
            "margin": null,
            "display": null,
            "left": null
          }
        },
        "5b4dfa44cee74488b4e69b97a1bd9ae4": {
          "model_module": "@jupyter-widgets/controls",
          "model_name": "HBoxModel",
          "state": {
            "_view_name": "HBoxView",
            "_dom_classes": [],
            "_model_name": "HBoxModel",
            "_view_module": "@jupyter-widgets/controls",
            "_model_module_version": "1.5.0",
            "_view_count": null,
            "_view_module_version": "1.5.0",
            "box_style": "",
            "layout": "IPY_MODEL_aac1af2d7223464186a98c793348aa84",
            "_model_module": "@jupyter-widgets/controls",
            "children": [
              "IPY_MODEL_2b7194a02e17428f8b2f8d1ea9f0441e",
              "IPY_MODEL_49bb464883604a80a476a6a8b6282032"
            ]
          }
        },
        "aac1af2d7223464186a98c793348aa84": {
          "model_module": "@jupyter-widgets/base",
          "model_name": "LayoutModel",
          "state": {
            "_view_name": "LayoutView",
            "grid_template_rows": null,
            "right": null,
            "justify_content": null,
            "_view_module": "@jupyter-widgets/base",
            "overflow": null,
            "_model_module_version": "1.2.0",
            "_view_count": null,
            "flex_flow": null,
            "width": null,
            "min_width": null,
            "border": null,
            "align_items": null,
            "bottom": null,
            "_model_module": "@jupyter-widgets/base",
            "top": null,
            "grid_column": null,
            "overflow_y": null,
            "overflow_x": null,
            "grid_auto_flow": null,
            "grid_area": null,
            "grid_template_columns": null,
            "flex": null,
            "_model_name": "LayoutModel",
            "justify_items": null,
            "grid_row": null,
            "max_height": null,
            "align_content": null,
            "visibility": null,
            "align_self": null,
            "height": null,
            "min_height": null,
            "padding": null,
            "grid_auto_rows": null,
            "grid_gap": null,
            "max_width": null,
            "order": null,
            "_view_module_version": "1.2.0",
            "grid_template_areas": null,
            "object_position": null,
            "object_fit": null,
            "grid_auto_columns": null,
            "margin": null,
            "display": null,
            "left": null
          }
        },
        "2b7194a02e17428f8b2f8d1ea9f0441e": {
          "model_module": "@jupyter-widgets/controls",
          "model_name": "FloatProgressModel",
          "state": {
            "_view_name": "ProgressView",
            "style": "IPY_MODEL_25596cbd5e9345ccafdad26c34e23d5b",
            "_dom_classes": [],
            "description": "Downloading: 100%",
            "_model_name": "FloatProgressModel",
            "bar_style": "success",
            "max": 421,
            "_view_module": "@jupyter-widgets/controls",
            "_model_module_version": "1.5.0",
            "value": 421,
            "_view_count": null,
            "_view_module_version": "1.5.0",
            "orientation": "horizontal",
            "min": 0,
            "description_tooltip": null,
            "_model_module": "@jupyter-widgets/controls",
            "layout": "IPY_MODEL_becec25a80bd40f1a168f813894a1d83"
          }
        },
        "49bb464883604a80a476a6a8b6282032": {
          "model_module": "@jupyter-widgets/controls",
          "model_name": "HTMLModel",
          "state": {
            "_view_name": "HTMLView",
            "style": "IPY_MODEL_45cac677fbf84012a1725690ec897fa5",
            "_dom_classes": [],
            "description": "",
            "_model_name": "HTMLModel",
            "placeholder": "​",
            "_view_module": "@jupyter-widgets/controls",
            "_model_module_version": "1.5.0",
            "value": " 421/421 [00:00&lt;00:00, 775B/s]",
            "_view_count": null,
            "_view_module_version": "1.5.0",
            "description_tooltip": null,
            "_model_module": "@jupyter-widgets/controls",
            "layout": "IPY_MODEL_2a5f3ecf97db4308981847480fc4707a"
          }
        },
        "25596cbd5e9345ccafdad26c34e23d5b": {
          "model_module": "@jupyter-widgets/controls",
          "model_name": "ProgressStyleModel",
          "state": {
            "_view_name": "StyleView",
            "_model_name": "ProgressStyleModel",
            "description_width": "initial",
            "_view_module": "@jupyter-widgets/base",
            "_model_module_version": "1.5.0",
            "_view_count": null,
            "_view_module_version": "1.2.0",
            "bar_color": null,
            "_model_module": "@jupyter-widgets/controls"
          }
        },
        "becec25a80bd40f1a168f813894a1d83": {
          "model_module": "@jupyter-widgets/base",
          "model_name": "LayoutModel",
          "state": {
            "_view_name": "LayoutView",
            "grid_template_rows": null,
            "right": null,
            "justify_content": null,
            "_view_module": "@jupyter-widgets/base",
            "overflow": null,
            "_model_module_version": "1.2.0",
            "_view_count": null,
            "flex_flow": null,
            "width": null,
            "min_width": null,
            "border": null,
            "align_items": null,
            "bottom": null,
            "_model_module": "@jupyter-widgets/base",
            "top": null,
            "grid_column": null,
            "overflow_y": null,
            "overflow_x": null,
            "grid_auto_flow": null,
            "grid_area": null,
            "grid_template_columns": null,
            "flex": null,
            "_model_name": "LayoutModel",
            "justify_items": null,
            "grid_row": null,
            "max_height": null,
            "align_content": null,
            "visibility": null,
            "align_self": null,
            "height": null,
            "min_height": null,
            "padding": null,
            "grid_auto_rows": null,
            "grid_gap": null,
            "max_width": null,
            "order": null,
            "_view_module_version": "1.2.0",
            "grid_template_areas": null,
            "object_position": null,
            "object_fit": null,
            "grid_auto_columns": null,
            "margin": null,
            "display": null,
            "left": null
          }
        },
        "45cac677fbf84012a1725690ec897fa5": {
          "model_module": "@jupyter-widgets/controls",
          "model_name": "DescriptionStyleModel",
          "state": {
            "_view_name": "StyleView",
            "_model_name": "DescriptionStyleModel",
            "description_width": "",
            "_view_module": "@jupyter-widgets/base",
            "_model_module_version": "1.5.0",
            "_view_count": null,
            "_view_module_version": "1.2.0",
            "_model_module": "@jupyter-widgets/controls"
          }
        },
        "2a5f3ecf97db4308981847480fc4707a": {
          "model_module": "@jupyter-widgets/base",
          "model_name": "LayoutModel",
          "state": {
            "_view_name": "LayoutView",
            "grid_template_rows": null,
            "right": null,
            "justify_content": null,
            "_view_module": "@jupyter-widgets/base",
            "overflow": null,
            "_model_module_version": "1.2.0",
            "_view_count": null,
            "flex_flow": null,
            "width": null,
            "min_width": null,
            "border": null,
            "align_items": null,
            "bottom": null,
            "_model_module": "@jupyter-widgets/base",
            "top": null,
            "grid_column": null,
            "overflow_y": null,
            "overflow_x": null,
            "grid_auto_flow": null,
            "grid_area": null,
            "grid_template_columns": null,
            "flex": null,
            "_model_name": "LayoutModel",
            "justify_items": null,
            "grid_row": null,
            "max_height": null,
            "align_content": null,
            "visibility": null,
            "align_self": null,
            "height": null,
            "min_height": null,
            "padding": null,
            "grid_auto_rows": null,
            "grid_gap": null,
            "max_width": null,
            "order": null,
            "_view_module_version": "1.2.0",
            "grid_template_areas": null,
            "object_position": null,
            "object_fit": null,
            "grid_auto_columns": null,
            "margin": null,
            "display": null,
            "left": null
          }
        },
        "db3e25409cae4775a333c0026bfcb07a": {
          "model_module": "@jupyter-widgets/controls",
          "model_name": "HBoxModel",
          "state": {
            "_view_name": "HBoxView",
            "_dom_classes": [],
            "_model_name": "HBoxModel",
            "_view_module": "@jupyter-widgets/controls",
            "_model_module_version": "1.5.0",
            "_view_count": null,
            "_view_module_version": "1.5.0",
            "box_style": "",
            "layout": "IPY_MODEL_2fd47e274dea48df8296acfe2717c947",
            "_model_module": "@jupyter-widgets/controls",
            "children": [
              "IPY_MODEL_7436c1c829b54422871df2cde94d91e4",
              "IPY_MODEL_9840b268c39e4449bcf2b30bb123240d"
            ]
          }
        },
        "2fd47e274dea48df8296acfe2717c947": {
          "model_module": "@jupyter-widgets/base",
          "model_name": "LayoutModel",
          "state": {
            "_view_name": "LayoutView",
            "grid_template_rows": null,
            "right": null,
            "justify_content": null,
            "_view_module": "@jupyter-widgets/base",
            "overflow": null,
            "_model_module_version": "1.2.0",
            "_view_count": null,
            "flex_flow": null,
            "width": null,
            "min_width": null,
            "border": null,
            "align_items": null,
            "bottom": null,
            "_model_module": "@jupyter-widgets/base",
            "top": null,
            "grid_column": null,
            "overflow_y": null,
            "overflow_x": null,
            "grid_auto_flow": null,
            "grid_area": null,
            "grid_template_columns": null,
            "flex": null,
            "_model_name": "LayoutModel",
            "justify_items": null,
            "grid_row": null,
            "max_height": null,
            "align_content": null,
            "visibility": null,
            "align_self": null,
            "height": null,
            "min_height": null,
            "padding": null,
            "grid_auto_rows": null,
            "grid_gap": null,
            "max_width": null,
            "order": null,
            "_view_module_version": "1.2.0",
            "grid_template_areas": null,
            "object_position": null,
            "object_fit": null,
            "grid_auto_columns": null,
            "margin": null,
            "display": null,
            "left": null
          }
        },
        "7436c1c829b54422871df2cde94d91e4": {
          "model_module": "@jupyter-widgets/controls",
          "model_name": "FloatProgressModel",
          "state": {
            "_view_name": "ProgressView",
            "style": "IPY_MODEL_c536b8fbb0be493ba144a265912a908d",
            "_dom_classes": [],
            "description": "Downloading: 100%",
            "_model_name": "FloatProgressModel",
            "bar_style": "success",
            "max": 231508,
            "_view_module": "@jupyter-widgets/controls",
            "_model_module_version": "1.5.0",
            "value": 231508,
            "_view_count": null,
            "_view_module_version": "1.5.0",
            "orientation": "horizontal",
            "min": 0,
            "description_tooltip": null,
            "_model_module": "@jupyter-widgets/controls",
            "layout": "IPY_MODEL_f141d16178024c4bb0f0e1b133e14969"
          }
        },
        "9840b268c39e4449bcf2b30bb123240d": {
          "model_module": "@jupyter-widgets/controls",
          "model_name": "HTMLModel",
          "state": {
            "_view_name": "HTMLView",
            "style": "IPY_MODEL_ee7ffdc856b34269bb209182e0fb9a44",
            "_dom_classes": [],
            "description": "",
            "_model_name": "HTMLModel",
            "placeholder": "​",
            "_view_module": "@jupyter-widgets/controls",
            "_model_module_version": "1.5.0",
            "value": " 232k/232k [00:00&lt;00:00, 815kB/s]",
            "_view_count": null,
            "_view_module_version": "1.5.0",
            "description_tooltip": null,
            "_model_module": "@jupyter-widgets/controls",
            "layout": "IPY_MODEL_ef9502dd69af4095b6f905d9f121f551"
          }
        },
        "c536b8fbb0be493ba144a265912a908d": {
          "model_module": "@jupyter-widgets/controls",
          "model_name": "ProgressStyleModel",
          "state": {
            "_view_name": "StyleView",
            "_model_name": "ProgressStyleModel",
            "description_width": "initial",
            "_view_module": "@jupyter-widgets/base",
            "_model_module_version": "1.5.0",
            "_view_count": null,
            "_view_module_version": "1.2.0",
            "bar_color": null,
            "_model_module": "@jupyter-widgets/controls"
          }
        },
        "f141d16178024c4bb0f0e1b133e14969": {
          "model_module": "@jupyter-widgets/base",
          "model_name": "LayoutModel",
          "state": {
            "_view_name": "LayoutView",
            "grid_template_rows": null,
            "right": null,
            "justify_content": null,
            "_view_module": "@jupyter-widgets/base",
            "overflow": null,
            "_model_module_version": "1.2.0",
            "_view_count": null,
            "flex_flow": null,
            "width": null,
            "min_width": null,
            "border": null,
            "align_items": null,
            "bottom": null,
            "_model_module": "@jupyter-widgets/base",
            "top": null,
            "grid_column": null,
            "overflow_y": null,
            "overflow_x": null,
            "grid_auto_flow": null,
            "grid_area": null,
            "grid_template_columns": null,
            "flex": null,
            "_model_name": "LayoutModel",
            "justify_items": null,
            "grid_row": null,
            "max_height": null,
            "align_content": null,
            "visibility": null,
            "align_self": null,
            "height": null,
            "min_height": null,
            "padding": null,
            "grid_auto_rows": null,
            "grid_gap": null,
            "max_width": null,
            "order": null,
            "_view_module_version": "1.2.0",
            "grid_template_areas": null,
            "object_position": null,
            "object_fit": null,
            "grid_auto_columns": null,
            "margin": null,
            "display": null,
            "left": null
          }
        },
        "ee7ffdc856b34269bb209182e0fb9a44": {
          "model_module": "@jupyter-widgets/controls",
          "model_name": "DescriptionStyleModel",
          "state": {
            "_view_name": "StyleView",
            "_model_name": "DescriptionStyleModel",
            "description_width": "",
            "_view_module": "@jupyter-widgets/base",
            "_model_module_version": "1.5.0",
            "_view_count": null,
            "_view_module_version": "1.2.0",
            "_model_module": "@jupyter-widgets/controls"
          }
        },
        "ef9502dd69af4095b6f905d9f121f551": {
          "model_module": "@jupyter-widgets/base",
          "model_name": "LayoutModel",
          "state": {
            "_view_name": "LayoutView",
            "grid_template_rows": null,
            "right": null,
            "justify_content": null,
            "_view_module": "@jupyter-widgets/base",
            "overflow": null,
            "_model_module_version": "1.2.0",
            "_view_count": null,
            "flex_flow": null,
            "width": null,
            "min_width": null,
            "border": null,
            "align_items": null,
            "bottom": null,
            "_model_module": "@jupyter-widgets/base",
            "top": null,
            "grid_column": null,
            "overflow_y": null,
            "overflow_x": null,
            "grid_auto_flow": null,
            "grid_area": null,
            "grid_template_columns": null,
            "flex": null,
            "_model_name": "LayoutModel",
            "justify_items": null,
            "grid_row": null,
            "max_height": null,
            "align_content": null,
            "visibility": null,
            "align_self": null,
            "height": null,
            "min_height": null,
            "padding": null,
            "grid_auto_rows": null,
            "grid_gap": null,
            "max_width": null,
            "order": null,
            "_view_module_version": "1.2.0",
            "grid_template_areas": null,
            "object_position": null,
            "object_fit": null,
            "grid_auto_columns": null,
            "margin": null,
            "display": null,
            "left": null
          }
        },
        "d1bc18c155f34343b096ea69f834622e": {
          "model_module": "@jupyter-widgets/controls",
          "model_name": "HBoxModel",
          "state": {
            "_view_name": "HBoxView",
            "_dom_classes": [],
            "_model_name": "HBoxModel",
            "_view_module": "@jupyter-widgets/controls",
            "_model_module_version": "1.5.0",
            "_view_count": null,
            "_view_module_version": "1.5.0",
            "box_style": "",
            "layout": "IPY_MODEL_80af33b1024b42a5931cb530791d67cc",
            "_model_module": "@jupyter-widgets/controls",
            "children": [
              "IPY_MODEL_8a87a498f8fc4adca5e3aa1819ce2d3d",
              "IPY_MODEL_74b885988b144dc1b898fff9bbd45d1c"
            ]
          }
        },
        "80af33b1024b42a5931cb530791d67cc": {
          "model_module": "@jupyter-widgets/base",
          "model_name": "LayoutModel",
          "state": {
            "_view_name": "LayoutView",
            "grid_template_rows": null,
            "right": null,
            "justify_content": null,
            "_view_module": "@jupyter-widgets/base",
            "overflow": null,
            "_model_module_version": "1.2.0",
            "_view_count": null,
            "flex_flow": null,
            "width": null,
            "min_width": null,
            "border": null,
            "align_items": null,
            "bottom": null,
            "_model_module": "@jupyter-widgets/base",
            "top": null,
            "grid_column": null,
            "overflow_y": null,
            "overflow_x": null,
            "grid_auto_flow": null,
            "grid_area": null,
            "grid_template_columns": null,
            "flex": null,
            "_model_name": "LayoutModel",
            "justify_items": null,
            "grid_row": null,
            "max_height": null,
            "align_content": null,
            "visibility": null,
            "align_self": null,
            "height": null,
            "min_height": null,
            "padding": null,
            "grid_auto_rows": null,
            "grid_gap": null,
            "max_width": null,
            "order": null,
            "_view_module_version": "1.2.0",
            "grid_template_areas": null,
            "object_position": null,
            "object_fit": null,
            "grid_auto_columns": null,
            "margin": null,
            "display": null,
            "left": null
          }
        },
        "8a87a498f8fc4adca5e3aa1819ce2d3d": {
          "model_module": "@jupyter-widgets/controls",
          "model_name": "FloatProgressModel",
          "state": {
            "_view_name": "ProgressView",
            "style": "IPY_MODEL_3b248f99ba72493482588256790bf1f1",
            "_dom_classes": [],
            "description": "Downloading: 100%",
            "_model_name": "FloatProgressModel",
            "bar_style": "success",
            "max": 112,
            "_view_module": "@jupyter-widgets/controls",
            "_model_module_version": "1.5.0",
            "value": 112,
            "_view_count": null,
            "_view_module_version": "1.5.0",
            "orientation": "horizontal",
            "min": 0,
            "description_tooltip": null,
            "_model_module": "@jupyter-widgets/controls",
            "layout": "IPY_MODEL_75beb1071ace4536b55e69db8a73b2e0"
          }
        },
        "74b885988b144dc1b898fff9bbd45d1c": {
          "model_module": "@jupyter-widgets/controls",
          "model_name": "HTMLModel",
          "state": {
            "_view_name": "HTMLView",
            "style": "IPY_MODEL_4b5203f185a4456ea659a10b9a0b983b",
            "_dom_classes": [],
            "description": "",
            "_model_name": "HTMLModel",
            "placeholder": "​",
            "_view_module": "@jupyter-widgets/controls",
            "_model_module_version": "1.5.0",
            "value": " 112/112 [00:00&lt;00:00, 991B/s]",
            "_view_count": null,
            "_view_module_version": "1.5.0",
            "description_tooltip": null,
            "_model_module": "@jupyter-widgets/controls",
            "layout": "IPY_MODEL_90d30bdcec464ce8897f9a7a082291d2"
          }
        },
        "3b248f99ba72493482588256790bf1f1": {
          "model_module": "@jupyter-widgets/controls",
          "model_name": "ProgressStyleModel",
          "state": {
            "_view_name": "StyleView",
            "_model_name": "ProgressStyleModel",
            "description_width": "initial",
            "_view_module": "@jupyter-widgets/base",
            "_model_module_version": "1.5.0",
            "_view_count": null,
            "_view_module_version": "1.2.0",
            "bar_color": null,
            "_model_module": "@jupyter-widgets/controls"
          }
        },
        "75beb1071ace4536b55e69db8a73b2e0": {
          "model_module": "@jupyter-widgets/base",
          "model_name": "LayoutModel",
          "state": {
            "_view_name": "LayoutView",
            "grid_template_rows": null,
            "right": null,
            "justify_content": null,
            "_view_module": "@jupyter-widgets/base",
            "overflow": null,
            "_model_module_version": "1.2.0",
            "_view_count": null,
            "flex_flow": null,
            "width": null,
            "min_width": null,
            "border": null,
            "align_items": null,
            "bottom": null,
            "_model_module": "@jupyter-widgets/base",
            "top": null,
            "grid_column": null,
            "overflow_y": null,
            "overflow_x": null,
            "grid_auto_flow": null,
            "grid_area": null,
            "grid_template_columns": null,
            "flex": null,
            "_model_name": "LayoutModel",
            "justify_items": null,
            "grid_row": null,
            "max_height": null,
            "align_content": null,
            "visibility": null,
            "align_self": null,
            "height": null,
            "min_height": null,
            "padding": null,
            "grid_auto_rows": null,
            "grid_gap": null,
            "max_width": null,
            "order": null,
            "_view_module_version": "1.2.0",
            "grid_template_areas": null,
            "object_position": null,
            "object_fit": null,
            "grid_auto_columns": null,
            "margin": null,
            "display": null,
            "left": null
          }
        },
        "4b5203f185a4456ea659a10b9a0b983b": {
          "model_module": "@jupyter-widgets/controls",
          "model_name": "DescriptionStyleModel",
          "state": {
            "_view_name": "StyleView",
            "_model_name": "DescriptionStyleModel",
            "description_width": "",
            "_view_module": "@jupyter-widgets/base",
            "_model_module_version": "1.5.0",
            "_view_count": null,
            "_view_module_version": "1.2.0",
            "_model_module": "@jupyter-widgets/controls"
          }
        },
        "90d30bdcec464ce8897f9a7a082291d2": {
          "model_module": "@jupyter-widgets/base",
          "model_name": "LayoutModel",
          "state": {
            "_view_name": "LayoutView",
            "grid_template_rows": null,
            "right": null,
            "justify_content": null,
            "_view_module": "@jupyter-widgets/base",
            "overflow": null,
            "_model_module_version": "1.2.0",
            "_view_count": null,
            "flex_flow": null,
            "width": null,
            "min_width": null,
            "border": null,
            "align_items": null,
            "bottom": null,
            "_model_module": "@jupyter-widgets/base",
            "top": null,
            "grid_column": null,
            "overflow_y": null,
            "overflow_x": null,
            "grid_auto_flow": null,
            "grid_area": null,
            "grid_template_columns": null,
            "flex": null,
            "_model_name": "LayoutModel",
            "justify_items": null,
            "grid_row": null,
            "max_height": null,
            "align_content": null,
            "visibility": null,
            "align_self": null,
            "height": null,
            "min_height": null,
            "padding": null,
            "grid_auto_rows": null,
            "grid_gap": null,
            "max_width": null,
            "order": null,
            "_view_module_version": "1.2.0",
            "grid_template_areas": null,
            "object_position": null,
            "object_fit": null,
            "grid_auto_columns": null,
            "margin": null,
            "display": null,
            "left": null
          }
        },
        "b77169bd38bb4d1f9ebd8f588d80d8e2": {
          "model_module": "@jupyter-widgets/controls",
          "model_name": "HBoxModel",
          "state": {
            "_view_name": "HBoxView",
            "_dom_classes": [],
            "_model_name": "HBoxModel",
            "_view_module": "@jupyter-widgets/controls",
            "_model_module_version": "1.5.0",
            "_view_count": null,
            "_view_module_version": "1.5.0",
            "box_style": "",
            "layout": "IPY_MODEL_36c8214da42e42f581e8a12d82464f61",
            "_model_module": "@jupyter-widgets/controls",
            "children": [
              "IPY_MODEL_479ddbd3aa2f4806b408499d0fec0d50",
              "IPY_MODEL_496e1fbb4aac48a2972f9e9de98df5c4"
            ]
          }
        },
        "36c8214da42e42f581e8a12d82464f61": {
          "model_module": "@jupyter-widgets/base",
          "model_name": "LayoutModel",
          "state": {
            "_view_name": "LayoutView",
            "grid_template_rows": null,
            "right": null,
            "justify_content": null,
            "_view_module": "@jupyter-widgets/base",
            "overflow": null,
            "_model_module_version": "1.2.0",
            "_view_count": null,
            "flex_flow": null,
            "width": null,
            "min_width": null,
            "border": null,
            "align_items": null,
            "bottom": null,
            "_model_module": "@jupyter-widgets/base",
            "top": null,
            "grid_column": null,
            "overflow_y": null,
            "overflow_x": null,
            "grid_auto_flow": null,
            "grid_area": null,
            "grid_template_columns": null,
            "flex": null,
            "_model_name": "LayoutModel",
            "justify_items": null,
            "grid_row": null,
            "max_height": null,
            "align_content": null,
            "visibility": null,
            "align_self": null,
            "height": null,
            "min_height": null,
            "padding": null,
            "grid_auto_rows": null,
            "grid_gap": null,
            "max_width": null,
            "order": null,
            "_view_module_version": "1.2.0",
            "grid_template_areas": null,
            "object_position": null,
            "object_fit": null,
            "grid_auto_columns": null,
            "margin": null,
            "display": null,
            "left": null
          }
        },
        "479ddbd3aa2f4806b408499d0fec0d50": {
          "model_module": "@jupyter-widgets/controls",
          "model_name": "FloatProgressModel",
          "state": {
            "_view_name": "ProgressView",
            "style": "IPY_MODEL_ad9fabd8667344fcb469e1b6350717d0",
            "_dom_classes": [],
            "description": "Downloading: 100%",
            "_model_name": "FloatProgressModel",
            "bar_style": "success",
            "max": 62,
            "_view_module": "@jupyter-widgets/controls",
            "_model_module_version": "1.5.0",
            "value": 62,
            "_view_count": null,
            "_view_module_version": "1.5.0",
            "orientation": "horizontal",
            "min": 0,
            "description_tooltip": null,
            "_model_module": "@jupyter-widgets/controls",
            "layout": "IPY_MODEL_d4c1ffcd24d34bccbb48b682cab6c60f"
          }
        },
        "496e1fbb4aac48a2972f9e9de98df5c4": {
          "model_module": "@jupyter-widgets/controls",
          "model_name": "HTMLModel",
          "state": {
            "_view_name": "HTMLView",
            "style": "IPY_MODEL_ddb736c0164e4117888be2dc19f954bb",
            "_dom_classes": [],
            "description": "",
            "_model_name": "HTMLModel",
            "placeholder": "​",
            "_view_module": "@jupyter-widgets/controls",
            "_model_module_version": "1.5.0",
            "value": " 62.0/62.0 [00:00&lt;00:00, 755B/s]",
            "_view_count": null,
            "_view_module_version": "1.5.0",
            "description_tooltip": null,
            "_model_module": "@jupyter-widgets/controls",
            "layout": "IPY_MODEL_6fe8f5d38a5f4ebc988c939f59829a9b"
          }
        },
        "ad9fabd8667344fcb469e1b6350717d0": {
          "model_module": "@jupyter-widgets/controls",
          "model_name": "ProgressStyleModel",
          "state": {
            "_view_name": "StyleView",
            "_model_name": "ProgressStyleModel",
            "description_width": "initial",
            "_view_module": "@jupyter-widgets/base",
            "_model_module_version": "1.5.0",
            "_view_count": null,
            "_view_module_version": "1.2.0",
            "bar_color": null,
            "_model_module": "@jupyter-widgets/controls"
          }
        },
        "d4c1ffcd24d34bccbb48b682cab6c60f": {
          "model_module": "@jupyter-widgets/base",
          "model_name": "LayoutModel",
          "state": {
            "_view_name": "LayoutView",
            "grid_template_rows": null,
            "right": null,
            "justify_content": null,
            "_view_module": "@jupyter-widgets/base",
            "overflow": null,
            "_model_module_version": "1.2.0",
            "_view_count": null,
            "flex_flow": null,
            "width": null,
            "min_width": null,
            "border": null,
            "align_items": null,
            "bottom": null,
            "_model_module": "@jupyter-widgets/base",
            "top": null,
            "grid_column": null,
            "overflow_y": null,
            "overflow_x": null,
            "grid_auto_flow": null,
            "grid_area": null,
            "grid_template_columns": null,
            "flex": null,
            "_model_name": "LayoutModel",
            "justify_items": null,
            "grid_row": null,
            "max_height": null,
            "align_content": null,
            "visibility": null,
            "align_self": null,
            "height": null,
            "min_height": null,
            "padding": null,
            "grid_auto_rows": null,
            "grid_gap": null,
            "max_width": null,
            "order": null,
            "_view_module_version": "1.2.0",
            "grid_template_areas": null,
            "object_position": null,
            "object_fit": null,
            "grid_auto_columns": null,
            "margin": null,
            "display": null,
            "left": null
          }
        },
        "ddb736c0164e4117888be2dc19f954bb": {
          "model_module": "@jupyter-widgets/controls",
          "model_name": "DescriptionStyleModel",
          "state": {
            "_view_name": "StyleView",
            "_model_name": "DescriptionStyleModel",
            "description_width": "",
            "_view_module": "@jupyter-widgets/base",
            "_model_module_version": "1.5.0",
            "_view_count": null,
            "_view_module_version": "1.2.0",
            "_model_module": "@jupyter-widgets/controls"
          }
        },
        "6fe8f5d38a5f4ebc988c939f59829a9b": {
          "model_module": "@jupyter-widgets/base",
          "model_name": "LayoutModel",
          "state": {
            "_view_name": "LayoutView",
            "grid_template_rows": null,
            "right": null,
            "justify_content": null,
            "_view_module": "@jupyter-widgets/base",
            "overflow": null,
            "_model_module_version": "1.2.0",
            "_view_count": null,
            "flex_flow": null,
            "width": null,
            "min_width": null,
            "border": null,
            "align_items": null,
            "bottom": null,
            "_model_module": "@jupyter-widgets/base",
            "top": null,
            "grid_column": null,
            "overflow_y": null,
            "overflow_x": null,
            "grid_auto_flow": null,
            "grid_area": null,
            "grid_template_columns": null,
            "flex": null,
            "_model_name": "LayoutModel",
            "justify_items": null,
            "grid_row": null,
            "max_height": null,
            "align_content": null,
            "visibility": null,
            "align_self": null,
            "height": null,
            "min_height": null,
            "padding": null,
            "grid_auto_rows": null,
            "grid_gap": null,
            "max_width": null,
            "order": null,
            "_view_module_version": "1.2.0",
            "grid_template_areas": null,
            "object_position": null,
            "object_fit": null,
            "grid_auto_columns": null,
            "margin": null,
            "display": null,
            "left": null
          }
        },
        "6d55a1d8f7514f60903a8cf401af7933": {
          "model_module": "@jupyter-widgets/controls",
          "model_name": "HBoxModel",
          "state": {
            "_view_name": "HBoxView",
            "_dom_classes": [],
            "_model_name": "HBoxModel",
            "_view_module": "@jupyter-widgets/controls",
            "_model_module_version": "1.5.0",
            "_view_count": null,
            "_view_module_version": "1.5.0",
            "box_style": "",
            "layout": "IPY_MODEL_9038f91d2f0d434b98b64bfa46cf0f34",
            "_model_module": "@jupyter-widgets/controls",
            "children": [
              "IPY_MODEL_ec8fb420088e4cd3b0041404954581c3",
              "IPY_MODEL_60dd4504df0c458b8e6bb61bec2deb62"
            ]
          }
        },
        "9038f91d2f0d434b98b64bfa46cf0f34": {
          "model_module": "@jupyter-widgets/base",
          "model_name": "LayoutModel",
          "state": {
            "_view_name": "LayoutView",
            "grid_template_rows": null,
            "right": null,
            "justify_content": null,
            "_view_module": "@jupyter-widgets/base",
            "overflow": null,
            "_model_module_version": "1.2.0",
            "_view_count": null,
            "flex_flow": null,
            "width": null,
            "min_width": null,
            "border": null,
            "align_items": null,
            "bottom": null,
            "_model_module": "@jupyter-widgets/base",
            "top": null,
            "grid_column": null,
            "overflow_y": null,
            "overflow_x": null,
            "grid_auto_flow": null,
            "grid_area": null,
            "grid_template_columns": null,
            "flex": null,
            "_model_name": "LayoutModel",
            "justify_items": null,
            "grid_row": null,
            "max_height": null,
            "align_content": null,
            "visibility": null,
            "align_self": null,
            "height": null,
            "min_height": null,
            "padding": null,
            "grid_auto_rows": null,
            "grid_gap": null,
            "max_width": null,
            "order": null,
            "_view_module_version": "1.2.0",
            "grid_template_areas": null,
            "object_position": null,
            "object_fit": null,
            "grid_auto_columns": null,
            "margin": null,
            "display": null,
            "left": null
          }
        },
        "ec8fb420088e4cd3b0041404954581c3": {
          "model_module": "@jupyter-widgets/controls",
          "model_name": "FloatProgressModel",
          "state": {
            "_view_name": "ProgressView",
            "style": "IPY_MODEL_2a75bc70f49046b9b10d322dc05485f4",
            "_dom_classes": [],
            "description": "Downloading: 100%",
            "_model_name": "FloatProgressModel",
            "bar_style": "success",
            "max": 433,
            "_view_module": "@jupyter-widgets/controls",
            "_model_module_version": "1.5.0",
            "value": 433,
            "_view_count": null,
            "_view_module_version": "1.5.0",
            "orientation": "horizontal",
            "min": 0,
            "description_tooltip": null,
            "_model_module": "@jupyter-widgets/controls",
            "layout": "IPY_MODEL_7870710ef2c547d5959fc9254542a808"
          }
        },
        "60dd4504df0c458b8e6bb61bec2deb62": {
          "model_module": "@jupyter-widgets/controls",
          "model_name": "HTMLModel",
          "state": {
            "_view_name": "HTMLView",
            "style": "IPY_MODEL_c98444cc7a794cd3b519427a7b57c62c",
            "_dom_classes": [],
            "description": "",
            "_model_name": "HTMLModel",
            "placeholder": "​",
            "_view_module": "@jupyter-widgets/controls",
            "_model_module_version": "1.5.0",
            "value": " 433/433 [00:00&lt;00:00, 3.37kB/s]",
            "_view_count": null,
            "_view_module_version": "1.5.0",
            "description_tooltip": null,
            "_model_module": "@jupyter-widgets/controls",
            "layout": "IPY_MODEL_92bbb2517a1f4f81ba531d1841cc4635"
          }
        },
        "2a75bc70f49046b9b10d322dc05485f4": {
          "model_module": "@jupyter-widgets/controls",
          "model_name": "ProgressStyleModel",
          "state": {
            "_view_name": "StyleView",
            "_model_name": "ProgressStyleModel",
            "description_width": "initial",
            "_view_module": "@jupyter-widgets/base",
            "_model_module_version": "1.5.0",
            "_view_count": null,
            "_view_module_version": "1.2.0",
            "bar_color": null,
            "_model_module": "@jupyter-widgets/controls"
          }
        },
        "7870710ef2c547d5959fc9254542a808": {
          "model_module": "@jupyter-widgets/base",
          "model_name": "LayoutModel",
          "state": {
            "_view_name": "LayoutView",
            "grid_template_rows": null,
            "right": null,
            "justify_content": null,
            "_view_module": "@jupyter-widgets/base",
            "overflow": null,
            "_model_module_version": "1.2.0",
            "_view_count": null,
            "flex_flow": null,
            "width": null,
            "min_width": null,
            "border": null,
            "align_items": null,
            "bottom": null,
            "_model_module": "@jupyter-widgets/base",
            "top": null,
            "grid_column": null,
            "overflow_y": null,
            "overflow_x": null,
            "grid_auto_flow": null,
            "grid_area": null,
            "grid_template_columns": null,
            "flex": null,
            "_model_name": "LayoutModel",
            "justify_items": null,
            "grid_row": null,
            "max_height": null,
            "align_content": null,
            "visibility": null,
            "align_self": null,
            "height": null,
            "min_height": null,
            "padding": null,
            "grid_auto_rows": null,
            "grid_gap": null,
            "max_width": null,
            "order": null,
            "_view_module_version": "1.2.0",
            "grid_template_areas": null,
            "object_position": null,
            "object_fit": null,
            "grid_auto_columns": null,
            "margin": null,
            "display": null,
            "left": null
          }
        },
        "c98444cc7a794cd3b519427a7b57c62c": {
          "model_module": "@jupyter-widgets/controls",
          "model_name": "DescriptionStyleModel",
          "state": {
            "_view_name": "StyleView",
            "_model_name": "DescriptionStyleModel",
            "description_width": "",
            "_view_module": "@jupyter-widgets/base",
            "_model_module_version": "1.5.0",
            "_view_count": null,
            "_view_module_version": "1.2.0",
            "_model_module": "@jupyter-widgets/controls"
          }
        },
        "92bbb2517a1f4f81ba531d1841cc4635": {
          "model_module": "@jupyter-widgets/base",
          "model_name": "LayoutModel",
          "state": {
            "_view_name": "LayoutView",
            "grid_template_rows": null,
            "right": null,
            "justify_content": null,
            "_view_module": "@jupyter-widgets/base",
            "overflow": null,
            "_model_module_version": "1.2.0",
            "_view_count": null,
            "flex_flow": null,
            "width": null,
            "min_width": null,
            "border": null,
            "align_items": null,
            "bottom": null,
            "_model_module": "@jupyter-widgets/base",
            "top": null,
            "grid_column": null,
            "overflow_y": null,
            "overflow_x": null,
            "grid_auto_flow": null,
            "grid_area": null,
            "grid_template_columns": null,
            "flex": null,
            "_model_name": "LayoutModel",
            "justify_items": null,
            "grid_row": null,
            "max_height": null,
            "align_content": null,
            "visibility": null,
            "align_self": null,
            "height": null,
            "min_height": null,
            "padding": null,
            "grid_auto_rows": null,
            "grid_gap": null,
            "max_width": null,
            "order": null,
            "_view_module_version": "1.2.0",
            "grid_template_areas": null,
            "object_position": null,
            "object_fit": null,
            "grid_auto_columns": null,
            "margin": null,
            "display": null,
            "left": null
          }
        },
        "98c1cfa3143747509a4cbbd8f368ffac": {
          "model_module": "@jupyter-widgets/controls",
          "model_name": "HBoxModel",
          "state": {
            "_view_name": "HBoxView",
            "_dom_classes": [],
            "_model_name": "HBoxModel",
            "_view_module": "@jupyter-widgets/controls",
            "_model_module_version": "1.5.0",
            "_view_count": null,
            "_view_module_version": "1.5.0",
            "box_style": "",
            "layout": "IPY_MODEL_039318d546f546a59b824ef5d73fd6e3",
            "_model_module": "@jupyter-widgets/controls",
            "children": [
              "IPY_MODEL_e9d265b2ff034a3ea08f7f6c0a8c5ff2",
              "IPY_MODEL_e01b069e84dc4f13ade9d39161edda21"
            ]
          }
        },
        "039318d546f546a59b824ef5d73fd6e3": {
          "model_module": "@jupyter-widgets/base",
          "model_name": "LayoutModel",
          "state": {
            "_view_name": "LayoutView",
            "grid_template_rows": null,
            "right": null,
            "justify_content": null,
            "_view_module": "@jupyter-widgets/base",
            "overflow": null,
            "_model_module_version": "1.2.0",
            "_view_count": null,
            "flex_flow": null,
            "width": null,
            "min_width": null,
            "border": null,
            "align_items": null,
            "bottom": null,
            "_model_module": "@jupyter-widgets/base",
            "top": null,
            "grid_column": null,
            "overflow_y": null,
            "overflow_x": null,
            "grid_auto_flow": null,
            "grid_area": null,
            "grid_template_columns": null,
            "flex": null,
            "_model_name": "LayoutModel",
            "justify_items": null,
            "grid_row": null,
            "max_height": null,
            "align_content": null,
            "visibility": null,
            "align_self": null,
            "height": null,
            "min_height": null,
            "padding": null,
            "grid_auto_rows": null,
            "grid_gap": null,
            "max_width": null,
            "order": null,
            "_view_module_version": "1.2.0",
            "grid_template_areas": null,
            "object_position": null,
            "object_fit": null,
            "grid_auto_columns": null,
            "margin": null,
            "display": null,
            "left": null
          }
        },
        "e9d265b2ff034a3ea08f7f6c0a8c5ff2": {
          "model_module": "@jupyter-widgets/controls",
          "model_name": "FloatProgressModel",
          "state": {
            "_view_name": "ProgressView",
            "style": "IPY_MODEL_2c936e807277442fbab9b2f1fdc0f1d1",
            "_dom_classes": [],
            "description": "Downloading: 100%",
            "_model_name": "FloatProgressModel",
            "bar_style": "success",
            "max": 231508,
            "_view_module": "@jupyter-widgets/controls",
            "_model_module_version": "1.5.0",
            "value": 231508,
            "_view_count": null,
            "_view_module_version": "1.5.0",
            "orientation": "horizontal",
            "min": 0,
            "description_tooltip": null,
            "_model_module": "@jupyter-widgets/controls",
            "layout": "IPY_MODEL_a771074cf65849c59c2977d353a825b7"
          }
        },
        "e01b069e84dc4f13ade9d39161edda21": {
          "model_module": "@jupyter-widgets/controls",
          "model_name": "HTMLModel",
          "state": {
            "_view_name": "HTMLView",
            "style": "IPY_MODEL_a99e55e1f5db471ead9a3ab18bbc2210",
            "_dom_classes": [],
            "description": "",
            "_model_name": "HTMLModel",
            "placeholder": "​",
            "_view_module": "@jupyter-widgets/controls",
            "_model_module_version": "1.5.0",
            "value": " 232k/232k [00:00&lt;00:00, 2.81MB/s]",
            "_view_count": null,
            "_view_module_version": "1.5.0",
            "description_tooltip": null,
            "_model_module": "@jupyter-widgets/controls",
            "layout": "IPY_MODEL_029903992972423890c189a1ab62dc0f"
          }
        },
        "2c936e807277442fbab9b2f1fdc0f1d1": {
          "model_module": "@jupyter-widgets/controls",
          "model_name": "ProgressStyleModel",
          "state": {
            "_view_name": "StyleView",
            "_model_name": "ProgressStyleModel",
            "description_width": "initial",
            "_view_module": "@jupyter-widgets/base",
            "_model_module_version": "1.5.0",
            "_view_count": null,
            "_view_module_version": "1.2.0",
            "bar_color": null,
            "_model_module": "@jupyter-widgets/controls"
          }
        },
        "a771074cf65849c59c2977d353a825b7": {
          "model_module": "@jupyter-widgets/base",
          "model_name": "LayoutModel",
          "state": {
            "_view_name": "LayoutView",
            "grid_template_rows": null,
            "right": null,
            "justify_content": null,
            "_view_module": "@jupyter-widgets/base",
            "overflow": null,
            "_model_module_version": "1.2.0",
            "_view_count": null,
            "flex_flow": null,
            "width": null,
            "min_width": null,
            "border": null,
            "align_items": null,
            "bottom": null,
            "_model_module": "@jupyter-widgets/base",
            "top": null,
            "grid_column": null,
            "overflow_y": null,
            "overflow_x": null,
            "grid_auto_flow": null,
            "grid_area": null,
            "grid_template_columns": null,
            "flex": null,
            "_model_name": "LayoutModel",
            "justify_items": null,
            "grid_row": null,
            "max_height": null,
            "align_content": null,
            "visibility": null,
            "align_self": null,
            "height": null,
            "min_height": null,
            "padding": null,
            "grid_auto_rows": null,
            "grid_gap": null,
            "max_width": null,
            "order": null,
            "_view_module_version": "1.2.0",
            "grid_template_areas": null,
            "object_position": null,
            "object_fit": null,
            "grid_auto_columns": null,
            "margin": null,
            "display": null,
            "left": null
          }
        },
        "a99e55e1f5db471ead9a3ab18bbc2210": {
          "model_module": "@jupyter-widgets/controls",
          "model_name": "DescriptionStyleModel",
          "state": {
            "_view_name": "StyleView",
            "_model_name": "DescriptionStyleModel",
            "description_width": "",
            "_view_module": "@jupyter-widgets/base",
            "_model_module_version": "1.5.0",
            "_view_count": null,
            "_view_module_version": "1.2.0",
            "_model_module": "@jupyter-widgets/controls"
          }
        },
        "029903992972423890c189a1ab62dc0f": {
          "model_module": "@jupyter-widgets/base",
          "model_name": "LayoutModel",
          "state": {
            "_view_name": "LayoutView",
            "grid_template_rows": null,
            "right": null,
            "justify_content": null,
            "_view_module": "@jupyter-widgets/base",
            "overflow": null,
            "_model_module_version": "1.2.0",
            "_view_count": null,
            "flex_flow": null,
            "width": null,
            "min_width": null,
            "border": null,
            "align_items": null,
            "bottom": null,
            "_model_module": "@jupyter-widgets/base",
            "top": null,
            "grid_column": null,
            "overflow_y": null,
            "overflow_x": null,
            "grid_auto_flow": null,
            "grid_area": null,
            "grid_template_columns": null,
            "flex": null,
            "_model_name": "LayoutModel",
            "justify_items": null,
            "grid_row": null,
            "max_height": null,
            "align_content": null,
            "visibility": null,
            "align_self": null,
            "height": null,
            "min_height": null,
            "padding": null,
            "grid_auto_rows": null,
            "grid_gap": null,
            "max_width": null,
            "order": null,
            "_view_module_version": "1.2.0",
            "grid_template_areas": null,
            "object_position": null,
            "object_fit": null,
            "grid_auto_columns": null,
            "margin": null,
            "display": null,
            "left": null
          }
        },
        "4e5286b1edf44dbe9c0e34b56627f732": {
          "model_module": "@jupyter-widgets/controls",
          "model_name": "HBoxModel",
          "state": {
            "_view_name": "HBoxView",
            "_dom_classes": [],
            "_model_name": "HBoxModel",
            "_view_module": "@jupyter-widgets/controls",
            "_model_module_version": "1.5.0",
            "_view_count": null,
            "_view_module_version": "1.5.0",
            "box_style": "",
            "layout": "IPY_MODEL_fb852c0edfef48d3ba27251cac89d290",
            "_model_module": "@jupyter-widgets/controls",
            "children": [
              "IPY_MODEL_60d1384cdee24833940b404cca37974c",
              "IPY_MODEL_4815d452514a49018f5d5eec76cf40a9"
            ]
          }
        },
        "fb852c0edfef48d3ba27251cac89d290": {
          "model_module": "@jupyter-widgets/base",
          "model_name": "LayoutModel",
          "state": {
            "_view_name": "LayoutView",
            "grid_template_rows": null,
            "right": null,
            "justify_content": null,
            "_view_module": "@jupyter-widgets/base",
            "overflow": null,
            "_model_module_version": "1.2.0",
            "_view_count": null,
            "flex_flow": null,
            "width": null,
            "min_width": null,
            "border": null,
            "align_items": null,
            "bottom": null,
            "_model_module": "@jupyter-widgets/base",
            "top": null,
            "grid_column": null,
            "overflow_y": null,
            "overflow_x": null,
            "grid_auto_flow": null,
            "grid_area": null,
            "grid_template_columns": null,
            "flex": null,
            "_model_name": "LayoutModel",
            "justify_items": null,
            "grid_row": null,
            "max_height": null,
            "align_content": null,
            "visibility": null,
            "align_self": null,
            "height": null,
            "min_height": null,
            "padding": null,
            "grid_auto_rows": null,
            "grid_gap": null,
            "max_width": null,
            "order": null,
            "_view_module_version": "1.2.0",
            "grid_template_areas": null,
            "object_position": null,
            "object_fit": null,
            "grid_auto_columns": null,
            "margin": null,
            "display": null,
            "left": null
          }
        },
        "60d1384cdee24833940b404cca37974c": {
          "model_module": "@jupyter-widgets/controls",
          "model_name": "FloatProgressModel",
          "state": {
            "_view_name": "ProgressView",
            "style": "IPY_MODEL_2ff09bc80ac5457dbb92da075e2cbe98",
            "_dom_classes": [],
            "description": " 51%",
            "_model_name": "FloatProgressModel",
            "bar_style": "",
            "max": 100667,
            "_view_module": "@jupyter-widgets/controls",
            "_model_module_version": "1.5.0",
            "value": 50982,
            "_view_count": null,
            "_view_module_version": "1.5.0",
            "orientation": "horizontal",
            "min": 0,
            "description_tooltip": null,
            "_model_module": "@jupyter-widgets/controls",
            "layout": "IPY_MODEL_75126e3c27f248b1a053e60b3a7ce727"
          }
        },
        "4815d452514a49018f5d5eec76cf40a9": {
          "model_module": "@jupyter-widgets/controls",
          "model_name": "HTMLModel",
          "state": {
            "_view_name": "HTMLView",
            "style": "IPY_MODEL_cac42d98db1e4e559852214ebc872e08",
            "_dom_classes": [],
            "description": "",
            "_model_name": "HTMLModel",
            "placeholder": "​",
            "_view_module": "@jupyter-widgets/controls",
            "_model_module_version": "1.5.0",
            "value": " 50982/100667 [3:09:06&lt;3:17:30,  4.19it/s]",
            "_view_count": null,
            "_view_module_version": "1.5.0",
            "description_tooltip": null,
            "_model_module": "@jupyter-widgets/controls",
            "layout": "IPY_MODEL_4efeb3e92bd5450f92df86b20189d286"
          }
        },
        "2ff09bc80ac5457dbb92da075e2cbe98": {
          "model_module": "@jupyter-widgets/controls",
          "model_name": "ProgressStyleModel",
          "state": {
            "_view_name": "StyleView",
            "_model_name": "ProgressStyleModel",
            "description_width": "initial",
            "_view_module": "@jupyter-widgets/base",
            "_model_module_version": "1.5.0",
            "_view_count": null,
            "_view_module_version": "1.2.0",
            "bar_color": null,
            "_model_module": "@jupyter-widgets/controls"
          }
        },
        "75126e3c27f248b1a053e60b3a7ce727": {
          "model_module": "@jupyter-widgets/base",
          "model_name": "LayoutModel",
          "state": {
            "_view_name": "LayoutView",
            "grid_template_rows": null,
            "right": null,
            "justify_content": null,
            "_view_module": "@jupyter-widgets/base",
            "overflow": null,
            "_model_module_version": "1.2.0",
            "_view_count": null,
            "flex_flow": null,
            "width": null,
            "min_width": null,
            "border": null,
            "align_items": null,
            "bottom": null,
            "_model_module": "@jupyter-widgets/base",
            "top": null,
            "grid_column": null,
            "overflow_y": null,
            "overflow_x": null,
            "grid_auto_flow": null,
            "grid_area": null,
            "grid_template_columns": null,
            "flex": null,
            "_model_name": "LayoutModel",
            "justify_items": null,
            "grid_row": null,
            "max_height": null,
            "align_content": null,
            "visibility": null,
            "align_self": null,
            "height": null,
            "min_height": null,
            "padding": null,
            "grid_auto_rows": null,
            "grid_gap": null,
            "max_width": null,
            "order": null,
            "_view_module_version": "1.2.0",
            "grid_template_areas": null,
            "object_position": null,
            "object_fit": null,
            "grid_auto_columns": null,
            "margin": null,
            "display": null,
            "left": null
          }
        },
        "cac42d98db1e4e559852214ebc872e08": {
          "model_module": "@jupyter-widgets/controls",
          "model_name": "DescriptionStyleModel",
          "state": {
            "_view_name": "StyleView",
            "_model_name": "DescriptionStyleModel",
            "description_width": "",
            "_view_module": "@jupyter-widgets/base",
            "_model_module_version": "1.5.0",
            "_view_count": null,
            "_view_module_version": "1.2.0",
            "_model_module": "@jupyter-widgets/controls"
          }
        },
        "4efeb3e92bd5450f92df86b20189d286": {
          "model_module": "@jupyter-widgets/base",
          "model_name": "LayoutModel",
          "state": {
            "_view_name": "LayoutView",
            "grid_template_rows": null,
            "right": null,
            "justify_content": null,
            "_view_module": "@jupyter-widgets/base",
            "overflow": null,
            "_model_module_version": "1.2.0",
            "_view_count": null,
            "flex_flow": null,
            "width": null,
            "min_width": null,
            "border": null,
            "align_items": null,
            "bottom": null,
            "_model_module": "@jupyter-widgets/base",
            "top": null,
            "grid_column": null,
            "overflow_y": null,
            "overflow_x": null,
            "grid_auto_flow": null,
            "grid_area": null,
            "grid_template_columns": null,
            "flex": null,
            "_model_name": "LayoutModel",
            "justify_items": null,
            "grid_row": null,
            "max_height": null,
            "align_content": null,
            "visibility": null,
            "align_self": null,
            "height": null,
            "min_height": null,
            "padding": null,
            "grid_auto_rows": null,
            "grid_gap": null,
            "max_width": null,
            "order": null,
            "_view_module_version": "1.2.0",
            "grid_template_areas": null,
            "object_position": null,
            "object_fit": null,
            "grid_auto_columns": null,
            "margin": null,
            "display": null,
            "left": null
          }
        }
      }
    }
  },
  "cells": [
    {
      "cell_type": "markdown",
      "metadata": {
        "id": "xLJme2x6Pxjj"
      },
      "source": [
        "# Setting up"
      ]
    },
    {
      "cell_type": "code",
      "metadata": {
        "id": "vS1oEsapIHoy",
        "colab": {
          "base_uri": "https://localhost:8080/"
        },
        "outputId": "4bf4e989-9208-4804-db0b-35d4635a1c84"
      },
      "source": [
        "!pip install transformers\n",
        "!pip install vaderSentiment\n",
        "!pip install emoji\n",
        "\n",
        "import time\n",
        "from tqdm.notebook import tqdm as tqdm\n",
        "import pandas as pd\n",
        "\n",
        "from google.colab import drive\n",
        "drive.mount('/content/drive')"
      ],
      "execution_count": null,
      "outputs": [
        {
          "output_type": "stream",
          "text": [
            "Collecting transformers\n",
            "\u001b[?25l  Downloading https://files.pythonhosted.org/packages/88/b1/41130a228dd656a1a31ba281598a968320283f48d42782845f6ba567f00b/transformers-4.2.2-py3-none-any.whl (1.8MB)\n",
            "\u001b[K     |████████████████████████████████| 1.8MB 17.9MB/s \n",
            "\u001b[?25hRequirement already satisfied: dataclasses; python_version < \"3.7\" in /usr/local/lib/python3.6/dist-packages (from transformers) (0.8)\n",
            "Requirement already satisfied: filelock in /usr/local/lib/python3.6/dist-packages (from transformers) (3.0.12)\n",
            "Requirement already satisfied: packaging in /usr/local/lib/python3.6/dist-packages (from transformers) (20.9)\n",
            "Requirement already satisfied: importlib-metadata; python_version < \"3.8\" in /usr/local/lib/python3.6/dist-packages (from transformers) (3.4.0)\n",
            "Requirement already satisfied: tqdm>=4.27 in /usr/local/lib/python3.6/dist-packages (from transformers) (4.41.1)\n",
            "Requirement already satisfied: regex!=2019.12.17 in /usr/local/lib/python3.6/dist-packages (from transformers) (2019.12.20)\n",
            "Collecting sacremoses\n",
            "\u001b[?25l  Downloading https://files.pythonhosted.org/packages/7d/34/09d19aff26edcc8eb2a01bed8e98f13a1537005d31e95233fd48216eed10/sacremoses-0.0.43.tar.gz (883kB)\n",
            "\u001b[K     |████████████████████████████████| 890kB 52.8MB/s \n",
            "\u001b[?25hRequirement already satisfied: numpy in /usr/local/lib/python3.6/dist-packages (from transformers) (1.19.5)\n",
            "Collecting tokenizers==0.9.4\n",
            "\u001b[?25l  Downloading https://files.pythonhosted.org/packages/0f/1c/e789a8b12e28be5bc1ce2156cf87cb522b379be9cadc7ad8091a4cc107c4/tokenizers-0.9.4-cp36-cp36m-manylinux2010_x86_64.whl (2.9MB)\n",
            "\u001b[K     |████████████████████████████████| 2.9MB 49.6MB/s \n",
            "\u001b[?25hRequirement already satisfied: requests in /usr/local/lib/python3.6/dist-packages (from transformers) (2.23.0)\n",
            "Requirement already satisfied: pyparsing>=2.0.2 in /usr/local/lib/python3.6/dist-packages (from packaging->transformers) (2.4.7)\n",
            "Requirement already satisfied: typing-extensions>=3.6.4; python_version < \"3.8\" in /usr/local/lib/python3.6/dist-packages (from importlib-metadata; python_version < \"3.8\"->transformers) (3.7.4.3)\n",
            "Requirement already satisfied: zipp>=0.5 in /usr/local/lib/python3.6/dist-packages (from importlib-metadata; python_version < \"3.8\"->transformers) (3.4.0)\n",
            "Requirement already satisfied: six in /usr/local/lib/python3.6/dist-packages (from sacremoses->transformers) (1.15.0)\n",
            "Requirement already satisfied: click in /usr/local/lib/python3.6/dist-packages (from sacremoses->transformers) (7.1.2)\n",
            "Requirement already satisfied: joblib in /usr/local/lib/python3.6/dist-packages (from sacremoses->transformers) (1.0.0)\n",
            "Requirement already satisfied: urllib3!=1.25.0,!=1.25.1,<1.26,>=1.21.1 in /usr/local/lib/python3.6/dist-packages (from requests->transformers) (1.24.3)\n",
            "Requirement already satisfied: chardet<4,>=3.0.2 in /usr/local/lib/python3.6/dist-packages (from requests->transformers) (3.0.4)\n",
            "Requirement already satisfied: certifi>=2017.4.17 in /usr/local/lib/python3.6/dist-packages (from requests->transformers) (2020.12.5)\n",
            "Requirement already satisfied: idna<3,>=2.5 in /usr/local/lib/python3.6/dist-packages (from requests->transformers) (2.10)\n",
            "Building wheels for collected packages: sacremoses\n",
            "  Building wheel for sacremoses (setup.py) ... \u001b[?25l\u001b[?25hdone\n",
            "  Created wheel for sacremoses: filename=sacremoses-0.0.43-cp36-none-any.whl size=893261 sha256=a3ce0ee3c58ba0301b0bca9b6d5283982cfb8703fe8572b49fe0cc50102bc87c\n",
            "  Stored in directory: /root/.cache/pip/wheels/29/3c/fd/7ce5c3f0666dab31a50123635e6fb5e19ceb42ce38d4e58f45\n",
            "Successfully built sacremoses\n",
            "Installing collected packages: sacremoses, tokenizers, transformers\n",
            "Successfully installed sacremoses-0.0.43 tokenizers-0.9.4 transformers-4.2.2\n",
            "Collecting vaderSentiment\n",
            "\u001b[?25l  Downloading https://files.pythonhosted.org/packages/76/fc/310e16254683c1ed35eeb97386986d6c00bc29df17ce280aed64d55537e9/vaderSentiment-3.3.2-py2.py3-none-any.whl (125kB)\n",
            "\u001b[K     |████████████████████████████████| 133kB 16.7MB/s \n",
            "\u001b[?25hRequirement already satisfied: requests in /usr/local/lib/python3.6/dist-packages (from vaderSentiment) (2.23.0)\n",
            "Requirement already satisfied: idna<3,>=2.5 in /usr/local/lib/python3.6/dist-packages (from requests->vaderSentiment) (2.10)\n",
            "Requirement already satisfied: urllib3!=1.25.0,!=1.25.1,<1.26,>=1.21.1 in /usr/local/lib/python3.6/dist-packages (from requests->vaderSentiment) (1.24.3)\n",
            "Requirement already satisfied: chardet<4,>=3.0.2 in /usr/local/lib/python3.6/dist-packages (from requests->vaderSentiment) (3.0.4)\n",
            "Requirement already satisfied: certifi>=2017.4.17 in /usr/local/lib/python3.6/dist-packages (from requests->vaderSentiment) (2020.12.5)\n",
            "Installing collected packages: vaderSentiment\n",
            "Successfully installed vaderSentiment-3.3.2\n",
            "Collecting emoji\n",
            "\u001b[?25l  Downloading https://files.pythonhosted.org/packages/24/fa/b3368f41b95a286f8d300e323449ab4e86b85334c2e0b477e94422b8ed0f/emoji-1.2.0-py3-none-any.whl (131kB)\n",
            "\u001b[K     |████████████████████████████████| 133kB 18.2MB/s \n",
            "\u001b[?25hInstalling collected packages: emoji\n",
            "Successfully installed emoji-1.2.0\n",
            "Mounted at /content/drive\n"
          ],
          "name": "stdout"
        }
      ]
    },
    {
      "cell_type": "markdown",
      "metadata": {
        "id": "o7FOzlvCLF1G"
      },
      "source": [
        "# Get annotated tweet from SemEval-2016 Task 4: Sentiment Analysis in Twitter\n",
        "http://alt.qcri.org/semeval2016/task4/index.php?id=data-and-tools\n",
        "\n",
        "\n",
        "This section is dedicated to get tweets based on ID.\n"
      ]
    },
    {
      "cell_type": "code",
      "metadata": {
        "id": "rtSMxOk8LEU4"
      },
      "source": [
        "import tweepy\n",
        "\n",
        "consumer_key = \"CONSUMER_KEY"\n",
        "consumer_secret = \"CONSUMER_SECRET\"\n",
        "access_token = \"ACCESS_TOIKEN\"\n",
        "access_token_secret = \"ACCESS_TOKEN_SECRET\"\n",
        "\n",
        "auth = tweepy.OAuthHandler(consumer_key, consumer_secret)\n",
        "auth.set_access_token(access_token, access_token_secret)\n",
        "api = tweepy.API(auth)\n",
        "\n",
        "file_idx = open(\"IDX-SENTIMENT.txt\",\"r\")\n",
        "text = [x.strip() for x in file_idx.readlines()]\n",
        "idx = [x.split(\"\\t\")[0] for x in text]\n",
        "labels = [x.split(\"\\t\")[1] for x in text]\n",
        "\n",
        "assert len(idx) == len(labels)\n",
        "print(len(idx))"
      ],
      "execution_count": null,
      "outputs": []
    },
    {
      "cell_type": "code",
      "metadata": {
        "id": "ZkD8Io-QMwmb",
        "colab": {
          "base_uri": "https://localhost:8080/",
          "height": 170,
          "referenced_widgets": [
            "95d064e8c92749f69e0c44abcd0a4b21"
          ]
        },
        "outputId": "63869072-0720-4fbe-c9df-e22bb36a266c"
      },
      "source": [
        "tweets = {}\n",
        "for id in tqdm(idx):\n",
        "  try:\n",
        "    item = api.get_status(id)._json\n",
        "    tweets[id] = item\n",
        "  except tweepy.RateLimitError:\n",
        "      print(\"RATE LIMIT EXCEEDED!\")\n",
        "      time.sleep(60*15)\n",
        "  except:\n",
        "    tweets[id] = {\"text\":None}\n",
        "\n",
        "corpus = []\n",
        "for i in tweets.keys():\n",
        "  corpus.append(tweets[i][\"text\"])\n",
        "\n",
        "df = pd.DataFrame([corpus,labels[:len(corpus)]]).T\n",
        "df.columns = [\"Text\",\"Target\"]\n",
        "df.index = idx[:len(corpus)]\n",
        "print(df.shape)\n",
        "\n",
        "df = df.dropna()\n",
        "df.shape\n",
        "df.to_csv(\"6k_tagged_tweets.csv\",sep=\"\\t\")"
      ],
      "execution_count": null,
      "outputs": [
        {
          "output_type": "display_data",
          "data": {
            "application/vnd.jupyter.widget-view+json": {
              "model_id": "95d064e8c92749f69e0c44abcd0a4b21",
              "version_major": 2,
              "version_minor": 0
            },
            "text/plain": [
              "HBox(children=(FloatProgress(value=0.0, max=6000.0), HTML(value='')))"
            ]
          },
          "metadata": {
            "tags": []
          }
        },
        {
          "output_type": "stream",
          "text": [
            "RATE LIMIT EXCEEDED!\n",
            "RATE LIMIT EXCEEDED!\n",
            "RATE LIMIT EXCEEDED!\n",
            "RATE LIMIT EXCEEDED!\n",
            "RATE LIMIT EXCEEDED!\n",
            "RATE LIMIT EXCEEDED!\n",
            "\n"
          ],
          "name": "stdout"
        }
      ]
    },
    {
      "cell_type": "markdown",
      "metadata": {
        "id": "3Y243Rktj6vp"
      },
      "source": [
        "# Load data from SemEval-2016 Task 4: Sentiment Analysis in Twitter\n"
      ]
    },
    {
      "cell_type": "code",
      "metadata": {
        "id": "G9C2Thugj5mT",
        "colab": {
          "base_uri": "https://localhost:8080/",
          "height": 215
        },
        "outputId": "8a55a682-8eac-4f2e-cea1-711326fb4519"
      },
      "source": [
        "df = pd.read_csv('drive/My Drive/mmazzola_TwitterCovid/Sentiment Analysis/Dataset/SemEval2017-task4-test.subtask-A.english.txt', sep=\"\\t\", header=None)\n",
        "df.columns=[\"TweetID\",\"Target\",\"Text\"]\n",
        "print(\"LEN df\",df.shape)\n",
        "df.head()"
      ],
      "execution_count": null,
      "outputs": [
        {
          "output_type": "stream",
          "text": [
            "LEN df (11906, 3)\n"
          ],
          "name": "stdout"
        },
        {
          "output_type": "execute_result",
          "data": {
            "text/html": [
              "<div>\n",
              "<style scoped>\n",
              "    .dataframe tbody tr th:only-of-type {\n",
              "        vertical-align: middle;\n",
              "    }\n",
              "\n",
              "    .dataframe tbody tr th {\n",
              "        vertical-align: top;\n",
              "    }\n",
              "\n",
              "    .dataframe thead th {\n",
              "        text-align: right;\n",
              "    }\n",
              "</style>\n",
              "<table border=\"1\" class=\"dataframe\">\n",
              "  <thead>\n",
              "    <tr style=\"text-align: right;\">\n",
              "      <th></th>\n",
              "      <th>TweetID</th>\n",
              "      <th>Target</th>\n",
              "      <th>Text</th>\n",
              "    </tr>\n",
              "  </thead>\n",
              "  <tbody>\n",
              "    <tr>\n",
              "      <th>0</th>\n",
              "      <td>801989080477154944</td>\n",
              "      <td>neutral</td>\n",
              "      <td>#ArianaGrande Ari By Ariana Grande 80% Full ht...</td>\n",
              "    </tr>\n",
              "    <tr>\n",
              "      <th>1</th>\n",
              "      <td>801989272341453952</td>\n",
              "      <td>positive</td>\n",
              "      <td>Ariana Grande KIIS FM Yours Truly CD listening...</td>\n",
              "    </tr>\n",
              "    <tr>\n",
              "      <th>2</th>\n",
              "      <td>801990978424962944</td>\n",
              "      <td>positive</td>\n",
              "      <td>Ariana Grande White House Easter Egg Roll in W...</td>\n",
              "    </tr>\n",
              "    <tr>\n",
              "      <th>3</th>\n",
              "      <td>801996232553963008</td>\n",
              "      <td>positive</td>\n",
              "      <td>#CD #Musics Ariana Grande Sweet Like Candy 3.4...</td>\n",
              "    </tr>\n",
              "    <tr>\n",
              "      <th>4</th>\n",
              "      <td>801998343442407040</td>\n",
              "      <td>neutral</td>\n",
              "      <td>SIDE TO SIDE 😘 @arianagrande #sidetoside #aria...</td>\n",
              "    </tr>\n",
              "  </tbody>\n",
              "</table>\n",
              "</div>"
            ],
            "text/plain": [
              "              TweetID  ...                                               Text\n",
              "0  801989080477154944  ...  #ArianaGrande Ari By Ariana Grande 80% Full ht...\n",
              "1  801989272341453952  ...  Ariana Grande KIIS FM Yours Truly CD listening...\n",
              "2  801990978424962944  ...  Ariana Grande White House Easter Egg Roll in W...\n",
              "3  801996232553963008  ...  #CD #Musics Ariana Grande Sweet Like Candy 3.4...\n",
              "4  801998343442407040  ...  SIDE TO SIDE 😘 @arianagrande #sidetoside #aria...\n",
              "\n",
              "[5 rows x 3 columns]"
            ]
          },
          "metadata": {
            "tags": []
          },
          "execution_count": 2
        }
      ]
    },
    {
      "cell_type": "markdown",
      "metadata": {
        "id": "SG930i0eo-pr"
      },
      "source": [
        "\n"
      ]
    },
    {
      "cell_type": "markdown",
      "metadata": {
        "id": "PdFd4btK1bGF"
      },
      "source": [
        "# Take into account preprocess first (?)\n",
        "WHY? Because i didn't understand a lot if it's applied before or is embedded in the tokenizer"
      ]
    },
    {
      "cell_type": "code",
      "metadata": {
        "id": "FkzbHgGZ1ryF",
        "colab": {
          "base_uri": "https://localhost:8080/"
        },
        "outputId": "4accef46-4ee1-43d3-da03-bcb9acb3d197"
      },
      "source": [
        "import re\n",
        "def preprocess(text):\n",
        "  text = re.sub(r\"http\\S+\", '<url_filler>', text)\n",
        "  text = re.sub(r\"@\\S+\", '<username_filler>', text)\n",
        "  text = emoji.demojize(text)\n",
        "  return text\n",
        "\n",
        "#strange example:\n",
        "print(\"EMOJII\")\n",
        "text = (\"🤗\")\n",
        "encoded_input = tokenizer(text)\n",
        "print(text,\"->\",tokenizer.decode(encoded_input[\"input_ids\"]))\n",
        "print(\"\\nUSER MENTIONS\")\n",
        "#or:\n",
        "text = (\"@goodbye\")\n",
        "encoded_input = tokenizer(text)\n",
        "print(text,\"->\",tokenizer.decode(encoded_input[\"input_ids\"]))\n",
        "print(\"\\nLINKS\")\n",
        "#or\n",
        "text = (\"https:twitter.com\")\n",
        "encoded_input = tokenizer(text)\n",
        "print(text,\"->\",tokenizer.decode(encoded_input[\"input_ids\"]))"
      ],
      "execution_count": null,
      "outputs": [
        {
          "output_type": "stream",
          "text": [
            "EMOJII\n",
            "🤗 -> [CLS] [UNK] [SEP]\n",
            "\n",
            "USER MENTIONS\n",
            "@goodbye -> [CLS] @ goodbye [SEP]\n",
            "\n",
            "LINKS\n",
            "https:twitter.com -> [CLS] https : twitter. com [SEP]\n"
          ],
          "name": "stdout"
        }
      ]
    },
    {
      "cell_type": "markdown",
      "metadata": {
        "id": "EReE_ahlUaYv"
      },
      "source": [
        "# CTBERT FINE TUNING FOR SENTIMENT using SemEval2016\n",
        "(Baseline accuracy: CT-BERT    0.654,\n",
        "                    BERT-LARGE 0.620)\n",
        "\n",
        "https://colab.research.google.com/github/digitalepidemiologylab/covid-twitter-bert/blob/master/CT_BERT_Huggingface_(GPU_training).ipynb"
      ]
    },
    {
      "cell_type": "code",
      "metadata": {
        "id": "V7Xf3OUW5vlv"
      },
      "source": [
        "%tensorflow_version 2.x\n",
        "\n",
        "from transformers import (\n",
        "   AutoConfig,\n",
        "   AutoTokenizer,\n",
        "   TFAutoModelForSequenceClassification,\n",
        "   AdamW,\n",
        "   glue_convert_examples_to_features\n",
        ")\n",
        "import tensorflow as tf\n",
        "\n",
        "from sklearn.model_selection import train_test_split\n",
        "\n",
        "from keras.preprocessing.sequence import pad_sequences\n",
        "from sklearn.model_selection import train_test_split\n",
        "import numpy as np\n",
        "from sklearn import preprocessing\n",
        "\n",
        "#PARAMETERS\n",
        "model_name = 'digitalepidemiologylab/covid-twitter-bert-v2'\n",
        "config = AutoConfig.from_pretrained(model_name) #check config\n",
        "tokenizer = AutoTokenizer.from_pretrained(model_name,config=config)\n",
        "\n",
        "max_seq_length = 280\n",
        "batch_size = 8\n",
        "\n",
        "labels = preprocessing.LabelEncoder().fit(df[\"Target\"]).transform(df[\"Target\"])\n",
        "num_labels = int(df[\"Target\"].unique().shape[0])\n",
        "\n",
        "#check this values: there's 10 observation that is missed\n",
        "train_size = int(len(df[\"Text\"].ravel())*0.9/batch_size)\n",
        "validation_size = int(len(df[\"Text\"].ravel())*0.1/batch_size)"
      ],
      "execution_count": null,
      "outputs": []
    },
    {
      "cell_type": "code",
      "metadata": {
        "id": "Y9EhjKp2jJMC"
      },
      "source": [
        "#TOKENIZE THE TEXT USING CT-BERT\n",
        "tok = tokenizer(df[\"Text\"].ravel().tolist(),\n",
        "                padding=True,\n",
        "                truncation=True,\n",
        "                max_length=max_seq_length)\n",
        "\n",
        "input_ids = tok[\"input_ids\"]\n",
        "mask = tok[\"attention_mask\"]\n",
        "type_ids = tok[\"token_type_ids\"]\n",
        "\n",
        "#CREATE TRAIN TEST SPLIT\n",
        "train_ids, dev_ids, train_labels, validation_labels = train_test_split(input_ids, labels, random_state=0, test_size=0.1) \n",
        "train_masks, dev_masks, _, _ = train_test_split(mask, labels, random_state=0, test_size=0.1)\n",
        "train_types, dev_types, _, _ = train_test_split(mask, labels, random_state=0, test_size=0.1)\n",
        "\n",
        "#CREATE BATCHED DATASET\n",
        "def create_dataset(cat,ids, masks,types, labels):\n",
        "    if cat == \"dev\":\n",
        "      data_ids = dev_ids\n",
        "    else:\n",
        "      data_ids = train_ids\n",
        "\n",
        "    def gen():\n",
        "      for i in range(len(data_ids)):\n",
        "        yield (\n",
        "            {\n",
        "                \"input_ids\": ids[i],\n",
        "                \"token_type_ids\": types[i],\n",
        "                \"attention_mask\": masks[i],\n",
        "            },\n",
        "            labels[i],\n",
        "        )\n",
        "\n",
        "    return tf.data.Dataset.from_generator(\n",
        "        gen,\n",
        "        ({\"input_ids\": tf.int32, \"token_type_ids\":tf.int32, \"attention_mask\": tf.int32}, tf.int64),\n",
        "    (\n",
        "            {\n",
        "                \"input_ids\": tf.TensorShape([None,]),\n",
        "                \"token_type_ids\":tf.TensorShape([None,]),\n",
        "                \"attention_mask\": tf.TensorShape([None,])\n",
        "            },\n",
        "            tf.TensorShape(None),\n",
        "    ),\n",
        "        )\n",
        "\n",
        "train_dataset = create_dataset(cat=\"train\",\n",
        "                               ids=train_ids, \n",
        "                               masks=train_masks, \n",
        "                               types=train_types,\n",
        "                               labels=train_labels).batch(batch_size=batch_size)\n",
        "\n",
        "dev_dataset = create_dataset(cat=\"dev\",\n",
        "                             ids=dev_ids,\n",
        "                             masks=dev_masks, \n",
        "                             types = dev_types, \n",
        "                             labels=validation_labels).batch(batch_size=batch_size)"
      ],
      "execution_count": null,
      "outputs": []
    },
    {
      "cell_type": "code",
      "metadata": {
        "id": "LBt66Yaantxd",
        "colab": {
          "base_uri": "https://localhost:8080/",
          "height": 170,
          "referenced_widgets": [
            "694facdc2de642e8b7e2c67ce8401656",
            "d9fb1602b60442548e0ba8132c4e87d7",
            "4e7df720e81a48ebab4ee66c1d31054d",
            "3d8b591fcd6f443ea4240cbcb5a9284c",
            "3915e8edb2634c678d94b68849b7c241",
            "1585dfbf4c094846893de48b9cefa032",
            "b7e0b773027f42eb9ac2017b93b90a57",
            "f2b3389ae53b41868ef9c51f1bdc1fe8"
          ]
        },
        "outputId": "a6ff18ac-354e-4e6b-b5d1-46cc8c4987c5"
      },
      "source": [
        "#SET UP TRAINING\n",
        "\n",
        "learning_rate = 2e-5\n",
        "num_epochs = 25\n",
        "\n",
        "config = AutoConfig.from_pretrained(model_name, num_labels=num_labels)\n",
        "model = TFAutoModelForSequenceClassification.from_pretrained(model_name, config=config)\n",
        "\n",
        "optimizer = tf.keras.optimizers.Adam(learning_rate=learning_rate)\n",
        "loss = tf.keras.losses.SparseCategoricalCrossentropy(from_logits=True)\n",
        "\n",
        "metrics = [tf.keras.metrics.SparseCategoricalAccuracy('accuracy', dtype=tf.float32)]\n",
        "checkpoint_path = './drive/My Drive/mmazzola_TwitterCovid/Models/checkpoints/checkpoint.{epoch:02d}'\n",
        "callbacks = [tf.keras.callbacks.ModelCheckpoint(checkpoint_path, save_weights_only=True)]\n",
        "\n",
        "model.compile(optimizer=optimizer, loss=loss, metrics=metrics)\n",
        "\n",
        "train_steps_per_epoch = int(len(train_ids) / batch_size)\n",
        "dev_steps_per_epoch = int(len(dev_ids) / batch_size)\n",
        "\n",
        "history = model.fit(train_dataset, \n",
        "  epochs=num_epochs,\n",
        "  steps_per_epoch=train_steps_per_epoch,\n",
        "  validation_data=dev_dataset,\n",
        "  validation_steps=dev_steps_per_epoch,\n",
        "  callbacks=callbacks)"
      ],
      "execution_count": null,
      "outputs": [
        {
          "output_type": "display_data",
          "data": {
            "application/vnd.jupyter.widget-view+json": {
              "model_id": "694facdc2de642e8b7e2c67ce8401656",
              "version_minor": 0,
              "version_major": 2
            },
            "text/plain": [
              "HBox(children=(FloatProgress(value=0.0, description='Downloading', max=1472566816.0, style=ProgressStyle(descr…"
            ]
          },
          "metadata": {
            "tags": []
          }
        },
        {
          "output_type": "stream",
          "text": [
            "\n"
          ],
          "name": "stdout"
        },
        {
          "output_type": "stream",
          "text": [
            "Some layers from the model checkpoint at digitalepidemiologylab/covid-twitter-bert-v2 were not used when initializing TFBertForSequenceClassification: ['mlm___cls', 'nsp___cls']\n",
            "- This IS expected if you are initializing TFBertForSequenceClassification from the checkpoint of a model trained on another task or with another architecture (e.g. initializing a BertForSequenceClassification model from a BertForPretraining model).\n",
            "- This IS NOT expected if you are initializing TFBertForSequenceClassification from the checkpoint of a model that you expect to be exactly identical (initializing a BertForSequenceClassification model from a BertForSequenceClassification model).\n",
            "Some layers of TFBertForSequenceClassification were not initialized from the model checkpoint at digitalepidemiologylab/covid-twitter-bert-v2 and are newly initialized: ['classifier', 'dropout_73']\n",
            "You should probably TRAIN this model on a down-stream task to be able to use it for predictions and inference.\n"
          ],
          "name": "stderr"
        },
        {
          "output_type": "stream",
          "text": [
            "1339/1339 [==============================] - 840s 627ms/step - loss: 0.7555 - accuracy: 0.6519 - val_loss: 0.5747 - val_accuracy: 0.7559\n"
          ],
          "name": "stdout"
        }
      ]
    },
    {
      "cell_type": "code",
      "metadata": {
        "id": "ZUROum9Tnyq0",
        "colab": {
          "base_uri": "https://localhost:8080/"
        },
        "outputId": "85ad5034-e9f7-48a4-f3f0-5229f2709abb"
      },
      "source": [
        "print(f'\\nThe training has finished training after {num_epochs} epochs.')\n",
        "\n",
        "print('\\nThe checkpoint callback has generated a checkpoint after every epoch (loss being the training loss, val_loss is the validation loss):')\n",
        "!ls -lha './drive/My Drive/mmazzola_TwitterCovid/Models/checkpoints/'\n",
        "\n",
        "print('\\nWe will now save the finetuned model and the corresponding config file on your Colab disk.')\n",
        "model.save_pretrained('./drive/My Drive/mmazzola_TwitterCovid/Models/')\n",
        "\n",
        "print('\\nTensorflow model and config-file is saved in ./.../Models/')\n",
        "!ls -lha './drive/My Drive/mmazzola_TwitterCovid/Models/'"
      ],
      "execution_count": null,
      "outputs": [
        {
          "output_type": "stream",
          "text": [
            "\n",
            "The training has finished training after 1 epochs.\n",
            "\n",
            "The checkpoint callback has generated a checkpoint after every epoch (loss being the training loss, val_loss is the validation loss):\n",
            "total 3.8G\n",
            "-rw------- 1 root root   83 Nov  2 21:51 checkpoint\n",
            "-rw------- 1 root root 3.8G Nov  2 21:51 checkpoint.01.data-00000-of-00001\n",
            "-rw------- 1 root root  85K Nov  2 21:51 checkpoint.01.index\n",
            "\n",
            "We will now save the finetuned model and the corresponding config file on your Colab disk.\n",
            "\n",
            "Tensorflow model and config-file is saved in ./Models/\n",
            "total 1.3G\n",
            "drwx------ 2 root root 4.0K Nov  2 21:51 checkpoints\n",
            "-rw------- 1 root root  642 Nov  2 21:52 config.json\n",
            "drwx------ 2 root root 4.0K Nov  2 21:33 .ipynb_checkpoints\n",
            "-rw------- 1 root root 1.3G Nov  2 21:52 tf_model.h5\n"
          ],
          "name": "stdout"
        }
      ]
    },
    {
      "cell_type": "markdown",
      "metadata": {
        "id": "Lm78owXVSuSG"
      },
      "source": [
        "###  FINE TUNING FOR NEWS DETECTION\n",
        "\n",
        "https://github.com/digitalepidemiologylab/covid-twitter-bert/tree/master/datasets/covid_category\n",
        "\n",
        "DOWNLOAD AS FAST AS POSSIBLE (it's slow and also the likehood that tweets are deleted increase in time)."
      ]
    },
    {
      "cell_type": "code",
      "metadata": {
        "id": "TPQ0lzYnz3TH"
      },
      "source": [
        "#To be implemented..."
      ],
      "execution_count": null,
      "outputs": []
    },
    {
      "cell_type": "markdown",
      "metadata": {
        "id": "qUglREIcTljR"
      },
      "source": [
        "# VANILLA BERT FINETUNING FOR SENTIMENT using SemEval2016\n"
      ]
    },
    {
      "cell_type": "code",
      "metadata": {
        "id": "48Nyy3_ATkET",
        "colab": {
          "base_uri": "https://localhost:8080/"
        },
        "outputId": "6719019a-7d71-4c6a-8a21-d2ce3303ef78"
      },
      "source": [
        "%tensorflow_version 2.x\n",
        "\n",
        "from transformers import (\n",
        "    BertTokenizer,\n",
        "    TFBertForSequenceClassification,\n",
        "   AutoConfig,\n",
        "   AutoTokenizer,\n",
        "   TFAutoModelForSequenceClassification,\n",
        "   AdamW,\n",
        "   glue_convert_examples_to_features\n",
        ")\n",
        "import tensorflow as tf\n",
        "\n",
        "from sklearn.model_selection import train_test_split\n",
        "\n",
        "from keras.preprocessing.sequence import pad_sequences\n",
        "from sklearn.model_selection import train_test_split\n",
        "import numpy as np\n",
        "from sklearn import preprocessing\n",
        "\n",
        "model_name = \"bert-base-uncased\"\n",
        "model = TFBertForSequenceClassification.from_pretrained(model_name)\n",
        "tokenizer = BertTokenizer.from_pretrained(model_name)\n",
        "\n",
        "max_seq_length = 280\n",
        "batch_size = 8\n",
        "\n",
        "labels = preprocessing.LabelEncoder().fit(df[\"Target\"]).transform(df[\"Target\"])\n",
        "num_labels = int(df[\"Target\"].unique().shape[0])\n",
        "\n",
        "#TOKENIZE THE TEXT USING CT-BERT\n",
        "tok = tokenizer(df[\"Text\"].ravel().tolist(),\n",
        "                padding=True,\n",
        "                truncation=True,\n",
        "                max_length=max_seq_length)\n",
        "\n",
        "input_ids = tok[\"input_ids\"]\n",
        "mask = tok[\"attention_mask\"]\n",
        "type_ids = tok[\"token_type_ids\"]\n",
        "\n",
        "#CREATE TRAIN TEST SPLIT\n",
        "train_ids, dev_ids, train_labels, validation_labels = train_test_split(input_ids, labels, random_state=0, test_size=0.1) \n",
        "train_masks, dev_masks, _, _ = train_test_split(mask, labels, random_state=0, test_size=0.1)\n",
        "train_types, dev_types, _, _ = train_test_split(mask, labels, random_state=0, test_size=0.1)\n",
        "\n",
        "#CREATE BATCHED DATASET\n",
        "def create_dataset(cat,ids, masks,types, labels):\n",
        "    if cat == \"dev\":\n",
        "      data_ids = dev_ids\n",
        "    else:\n",
        "      data_ids = train_ids\n",
        "\n",
        "    def gen():\n",
        "      for i in range(len(data_ids)):\n",
        "        yield (\n",
        "            {\n",
        "                \"input_ids\": ids[i],\n",
        "                \"token_type_ids\": types[i],\n",
        "                \"attention_mask\": masks[i],\n",
        "            },\n",
        "            labels[i],\n",
        "        )\n",
        "\n",
        "    return tf.data.Dataset.from_generator(\n",
        "        gen,\n",
        "        ({\"input_ids\": tf.int32, \"token_type_ids\":tf.int32, \"attention_mask\": tf.int32}, tf.int64),\n",
        "    (\n",
        "            {\n",
        "                \"input_ids\": tf.TensorShape([None,]),\n",
        "                \"token_type_ids\":tf.TensorShape([None,]),\n",
        "                \"attention_mask\": tf.TensorShape([None,])\n",
        "            },\n",
        "            tf.TensorShape(None),\n",
        "    ),\n",
        "        )\n",
        "\n",
        "train_dataset = create_dataset(cat=\"train\",\n",
        "                               ids=train_ids, \n",
        "                               masks=train_masks, \n",
        "                               types=train_types,\n",
        "                               labels=train_labels).batch(batch_size=batch_size)\n",
        "\n",
        "dev_dataset = create_dataset(cat=\"dev\",\n",
        "                             ids=dev_ids,\n",
        "                             masks=dev_masks, \n",
        "                             types = dev_types, \n",
        "                             labels=validation_labels).batch(batch_size=batch_size)\n",
        "\n",
        "learning_rate = 2e-5\n",
        "num_epochs = 1\n",
        "\n",
        "config = AutoConfig.from_pretrained(model_name, num_labels=num_labels)\n",
        "model = TFAutoModelForSequenceClassification.from_pretrained(model_name, config=config)\n",
        "\n",
        "optimizer = tf.keras.optimizers.Adam(learning_rate=learning_rate)\n",
        "loss = tf.keras.losses.SparseCategoricalCrossentropy(from_logits=True)\n",
        "\n",
        "metrics = [tf.keras.metrics.SparseCategoricalAccuracy('accuracy', dtype=tf.float32)]\n",
        "checkpoint_path = './drive/My Drive/mmazzola_TwitterCovid/Models/BERT_FineTuned/checkpoints/checkpoint.{epoch:02d}'\n",
        "callbacks = [tf.keras.callbacks.ModelCheckpoint(checkpoint_path, save_weights_only=True)]\n",
        "\n",
        "model.compile(optimizer=optimizer, loss=loss, metrics=metrics)\n",
        "\n",
        "train_steps_per_epoch = int(len(train_ids) / batch_size)\n",
        "dev_steps_per_epoch = int(len(dev_ids) / batch_size)\n",
        "\n",
        "history = model.fit(train_dataset, \n",
        "  epochs=num_epochs,\n",
        "  steps_per_epoch=train_steps_per_epoch,\n",
        "  validation_data=dev_dataset,\n",
        "  validation_steps=dev_steps_per_epoch,\n",
        "  callbacks=callbacks)"
      ],
      "execution_count": null,
      "outputs": [
        {
          "output_type": "stream",
          "text": [
            "Some layers from the model checkpoint at bert-base-uncased were not used when initializing TFBertForSequenceClassification: ['mlm___cls', 'nsp___cls']\n",
            "- This IS expected if you are initializing TFBertForSequenceClassification from the checkpoint of a model trained on another task or with another architecture (e.g. initializing a BertForSequenceClassification model from a BertForPretraining model).\n",
            "- This IS NOT expected if you are initializing TFBertForSequenceClassification from the checkpoint of a model that you expect to be exactly identical (initializing a BertForSequenceClassification model from a BertForSequenceClassification model).\n",
            "Some layers of TFBertForSequenceClassification were not initialized from the model checkpoint at bert-base-uncased and are newly initialized: ['dropout_151', 'classifier']\n",
            "You should probably TRAIN this model on a down-stream task to be able to use it for predictions and inference.\n",
            "Some layers from the model checkpoint at bert-base-uncased were not used when initializing TFBertForSequenceClassification: ['mlm___cls', 'nsp___cls']\n",
            "- This IS expected if you are initializing TFBertForSequenceClassification from the checkpoint of a model trained on another task or with another architecture (e.g. initializing a BertForSequenceClassification model from a BertForPretraining model).\n",
            "- This IS NOT expected if you are initializing TFBertForSequenceClassification from the checkpoint of a model that you expect to be exactly identical (initializing a BertForSequenceClassification model from a BertForSequenceClassification model).\n",
            "Some layers of TFBertForSequenceClassification were not initialized from the model checkpoint at bert-base-uncased and are newly initialized: ['dropout_189', 'classifier']\n",
            "You should probably TRAIN this model on a down-stream task to be able to use it for predictions and inference.\n"
          ],
          "name": "stderr"
        },
        {
          "output_type": "stream",
          "text": [
            "1339/1339 [==============================] - 260s 194ms/step - loss: 0.7021 - accuracy: 0.6793 - val_loss: 0.6493 - val_accuracy: 0.7002\n"
          ],
          "name": "stdout"
        }
      ]
    },
    {
      "cell_type": "code",
      "metadata": {
        "id": "DXKD6VNyyMGg",
        "colab": {
          "base_uri": "https://localhost:8080/"
        },
        "outputId": "7214ac01-912a-4ed2-a109-46b34f0b3451"
      },
      "source": [
        "print(f'\\nThe training has finished training after {num_epochs} epochs.')\n",
        "\n",
        "print('\\nThe checkpoint callback has generated a checkpoint after every epoch (loss being the training loss, val_loss is the validation loss):')\n",
        "!ls -lha './drive/My Drive/mmazzola_TwitterCovid/Models/BERT_FineTuned/checkpoints/'\n",
        "\n",
        "print('\\nWe will now save the finetuned model and the corresponding config file on your Colab disk.')\n",
        "model.save_pretrained('./drive/My Drive/mmazzola_TwitterCovid/Models/BERT_FineTuned/')\n",
        "\n",
        "print('\\nTensorflow model and config-file is saved in ./.../Models/')\n",
        "!ls -lha './drive/My Drive/mmazzola_TwitterCovid/Models/BERT_FineTuned/'"
      ],
      "execution_count": null,
      "outputs": [
        {
          "output_type": "stream",
          "text": [
            "\n",
            "The training has finished training after 1 epochs.\n",
            "\n",
            "The checkpoint callback has generated a checkpoint after every epoch (loss being the training loss, val_loss is the validation loss):\n",
            "total 1.3G\n",
            "-rw------- 1 root root   83 Nov  3 11:15 checkpoint\n",
            "-rw------- 1 root root 1.3G Nov  3 11:15 checkpoint.01.data-00000-of-00001\n",
            "-rw------- 1 root root  44K Nov  3 11:15 checkpoint.01.index\n",
            "\n",
            "We will now save the finetuned model and the corresponding config file on your Colab disk.\n",
            "\n",
            "Tensorflow model and config-file is saved in ./.../Models/\n",
            "total 418M\n",
            "drwx------ 2 root root 4.0K Nov  3 11:15 checkpoints\n",
            "-rw------- 1 root root  662 Nov  3 11:15 config.json\n",
            "-rw------- 1 root root 418M Nov  3 11:15 tf_model.h5\n"
          ],
          "name": "stdout"
        }
      ]
    },
    {
      "cell_type": "markdown",
      "metadata": {
        "id": "6CHv_8-COQzJ"
      },
      "source": [
        "# Benchmarking using 🤗 transformers and finetuned models such as CT-BERT, BERT and Vader\n",
        "\n",
        "- https://github.com/cjhutto/vaderSentiment\n",
        "- https://huggingface.co/digitalepidemiologylab/covid-twitter-bert\n",
        "\n"
      ]
    },
    {
      "cell_type": "markdown",
      "metadata": {
        "id": "JQEea8Trq1os"
      },
      "source": [
        "## Load test data from Google Drive"
      ]
    },
    {
      "cell_type": "code",
      "metadata": {
        "id": "h0ECL0ERq05P",
        "colab": {
          "base_uri": "https://localhost:8080/",
          "referenced_widgets": [
            "cd5c267f419540d5a9d08e667246acc1",
            "6020cea54b504c478dbb39ea9d9ba3a1",
            "0ec647348b51409bae1066feae63901f",
            "9dd9bf7e84b742b4a1ded3f6cc6f84c9",
            "0d7c9ee806e6443199b1556ded693c60",
            "619dfe6ff9d14219b083514a0713d9fd",
            "82a19a1c93d1432b90cb9340ba2fbcc3",
            "f2d04a87245147e885730f600b67006b"
          ]
        },
        "outputId": "4f43733a-a419-476d-9099-e7eed77e6094"
      },
      "source": [
        "import os \n",
        "import pandas as pd \n",
        "from tqdm.notebook import tqdm as tqdm\n",
        "\n",
        "path  = \"drive/My Drive/Dataset CSV - No duplicates/\"\n",
        "\n",
        "csvs = [x for x in os.listdir(path) if \".csv\" in x]\n",
        "\n",
        "df_test = pd.DataFrame()\n",
        "for csv in tqdm(csvs):\n",
        "  csv = path+csv\n",
        "  df_test = df_test.append(pd.read_csv(csv))\n",
        "df_test.shape"
      ],
      "execution_count": null,
      "outputs": [
        {
          "output_type": "display_data",
          "data": {
            "application/vnd.jupyter.widget-view+json": {
              "model_id": "cd5c267f419540d5a9d08e667246acc1",
              "version_minor": 0,
              "version_major": 2
            },
            "text/plain": [
              "HBox(children=(FloatProgress(value=0.0, max=52.0), HTML(value='')))"
            ]
          },
          "metadata": {
            "tags": []
          }
        },
        {
          "output_type": "stream",
          "text": [
            "\n"
          ],
          "name": "stdout"
        },
        {
          "output_type": "execute_result",
          "data": {
            "text/plain": [
              "(6681080, 15)"
            ]
          },
          "metadata": {
            "tags": []
          },
          "execution_count": 5
        }
      ]
    },
    {
      "cell_type": "code",
      "metadata": {
        "id": "hCsM0qdX4OzI"
      },
      "source": [
        "days = [x.split(\" \")[0] for x in df_test[\"timestamp\"].tolist()]\n",
        "df_test[\"Days\"] = days\n",
        "df_test[\"Days\"].value_counts()"
      ],
      "execution_count": null,
      "outputs": []
    },
    {
      "cell_type": "code",
      "metadata": {
        "id": "3SiJrpnGkEjG"
      },
      "source": [
        "sentences = df_test.loc[df_test[\"language\"] == \"en\"].sample(n=101_000)[[\"text\",\"timestamp\"]]\n",
        "sentences = sentences.dropna()\n",
        "days = [x.split(\" \")[0] for x in sentences[\"timestamp\"].tolist()]"
      ],
      "execution_count": null,
      "outputs": []
    },
    {
      "cell_type": "code",
      "metadata": {
        "id": "Zmhq1TZclqFw"
      },
      "source": [
        "del df_test"
      ],
      "execution_count": null,
      "outputs": []
    },
    {
      "cell_type": "markdown",
      "metadata": {
        "id": "n4LD1j42q6La"
      },
      "source": [
        "## Load FineTuning Models and pipe per store results"
      ]
    },
    {
      "cell_type": "code",
      "metadata": {
        "id": "p9pfto3sH70E",
        "colab": {
          "base_uri": "https://localhost:8080/",
          "height": 484,
          "referenced_widgets": [
            "5b4dfa44cee74488b4e69b97a1bd9ae4",
            "aac1af2d7223464186a98c793348aa84",
            "2b7194a02e17428f8b2f8d1ea9f0441e",
            "49bb464883604a80a476a6a8b6282032",
            "25596cbd5e9345ccafdad26c34e23d5b",
            "becec25a80bd40f1a168f813894a1d83",
            "45cac677fbf84012a1725690ec897fa5",
            "2a5f3ecf97db4308981847480fc4707a",
            "db3e25409cae4775a333c0026bfcb07a",
            "2fd47e274dea48df8296acfe2717c947",
            "7436c1c829b54422871df2cde94d91e4",
            "9840b268c39e4449bcf2b30bb123240d",
            "c536b8fbb0be493ba144a265912a908d",
            "f141d16178024c4bb0f0e1b133e14969",
            "ee7ffdc856b34269bb209182e0fb9a44",
            "ef9502dd69af4095b6f905d9f121f551",
            "d1bc18c155f34343b096ea69f834622e",
            "80af33b1024b42a5931cb530791d67cc",
            "8a87a498f8fc4adca5e3aa1819ce2d3d",
            "74b885988b144dc1b898fff9bbd45d1c",
            "3b248f99ba72493482588256790bf1f1",
            "75beb1071ace4536b55e69db8a73b2e0",
            "4b5203f185a4456ea659a10b9a0b983b",
            "90d30bdcec464ce8897f9a7a082291d2",
            "b77169bd38bb4d1f9ebd8f588d80d8e2",
            "36c8214da42e42f581e8a12d82464f61",
            "479ddbd3aa2f4806b408499d0fec0d50",
            "496e1fbb4aac48a2972f9e9de98df5c4",
            "ad9fabd8667344fcb469e1b6350717d0",
            "d4c1ffcd24d34bccbb48b682cab6c60f",
            "ddb736c0164e4117888be2dc19f954bb",
            "6fe8f5d38a5f4ebc988c939f59829a9b",
            "6d55a1d8f7514f60903a8cf401af7933",
            "9038f91d2f0d434b98b64bfa46cf0f34",
            "ec8fb420088e4cd3b0041404954581c3",
            "60dd4504df0c458b8e6bb61bec2deb62",
            "2a75bc70f49046b9b10d322dc05485f4",
            "7870710ef2c547d5959fc9254542a808",
            "c98444cc7a794cd3b519427a7b57c62c",
            "92bbb2517a1f4f81ba531d1841cc4635",
            "98c1cfa3143747509a4cbbd8f368ffac",
            "039318d546f546a59b824ef5d73fd6e3",
            "e9d265b2ff034a3ea08f7f6c0a8c5ff2",
            "e01b069e84dc4f13ade9d39161edda21",
            "2c936e807277442fbab9b2f1fdc0f1d1",
            "a771074cf65849c59c2977d353a825b7",
            "a99e55e1f5db471ead9a3ab18bbc2210",
            "029903992972423890c189a1ab62dc0f"
          ]
        },
        "outputId": "c9fc1084-d1b1-42aa-f742-e2fad923624c"
      },
      "source": [
        "from transformers import pipeline\n",
        "import json\n",
        "import emoji\n",
        "from vaderSentiment.vaderSentiment import SentimentIntensityAnalyzer\n",
        "from transformers import AutoTokenizer, TFAutoModelForSequenceClassification\n",
        "\n",
        "# CT-BERT FOR SENTIMENT ANALYSIS\n",
        "model_covid = TFAutoModelForSequenceClassification.from_pretrained('./drive/My Drive/mmazzola_TwitterCovid/Models/CT-BERT_FineTuned')\n",
        "tokenizer_covid = AutoTokenizer.from_pretrained('digitalepidemiologylab/covid-twitter-bert-v2')\n",
        "\n",
        "def pipe_covid(text,model = model_covid,tokenizer = tokenizer_covid):\n",
        "  input_ids = tf.constant(tokenizer.encode(text, add_special_tokens=True))[None, :]\n",
        "  preds_encoded = model(input_ids)\n",
        "  preds = tf.nn.softmax(preds_encoded[0], axis=1).numpy()[0]\n",
        "  if preds[0]> preds[1] and preds[0]>preds[2]:\n",
        "    return \"NEGATIVE\"\n",
        "  elif preds[1] > preds[2]:\n",
        "    return \"NEUTRAL\"\n",
        "  else:\n",
        "    return \"POSITIVE\"\n",
        "\n",
        "\n",
        "# BERT FOR SENTIMENT ANALYSIS\n",
        "model_vanilla = TFAutoModelForSequenceClassification.from_pretrained(\"./drive/My Drive/mmazzola_TwitterCovid/Models/BERT_FineTuned\")\n",
        "tokenizer_vanilla = AutoTokenizer.from_pretrained(\"bert-base-uncased\")\n",
        "def pipe_vanilla(text,model = model_vanilla,tokenizer = tokenizer_vanilla):\n",
        "  input_ids = tf.constant(tokenizer.encode(text, add_special_tokens=True))[None, :]\n",
        "  preds_encoded = model(input_ids)\n",
        "  preds = tf.nn.softmax(preds_encoded[0], axis=1).numpy()[0]\n",
        "  if preds[0]> preds[1] and preds[0]>preds[2]:\n",
        "    return \"NEGATIVE\"\n",
        "  elif preds[1] > preds[2]:\n",
        "    return \"NEUTRAL\"\n",
        "  else:\n",
        "    return \"POSITIVE\"\n",
        "\n",
        "# VADER FOR SENTIMENT ANALYSIS\n",
        "def pipe_vader (text, analyzer = SentimentIntensityAnalyzer()):\n",
        "      score = analyzer.polarity_scores(text)[\"compound\"]\n",
        "      if score > 0.05:\n",
        "        return \"POSITIVE\" \n",
        "      elif score < -0.05:\n",
        "        return \"NEGATIVE\"\n",
        "      else:\n",
        "        return \"NEUTRAL\""
      ],
      "execution_count": null,
      "outputs": [
        {
          "output_type": "stream",
          "text": [
            "All model checkpoint layers were used when initializing TFBertForSequenceClassification.\n",
            "\n",
            "All the layers of TFBertForSequenceClassification were initialized from the model checkpoint at ./drive/My Drive/mmazzola_TwitterCovid/Models/CT-BERT_FineTuned.\n",
            "If your task is similar to the task the model of the checkpoint was trained on, you can already use TFBertForSequenceClassification for predictions without further training.\n"
          ],
          "name": "stderr"
        },
        {
          "output_type": "display_data",
          "data": {
            "application/vnd.jupyter.widget-view+json": {
              "model_id": "5b4dfa44cee74488b4e69b97a1bd9ae4",
              "version_minor": 0,
              "version_major": 2
            },
            "text/plain": [
              "HBox(children=(FloatProgress(value=0.0, description='Downloading', max=421.0, style=ProgressStyle(description_…"
            ]
          },
          "metadata": {
            "tags": []
          }
        },
        {
          "output_type": "stream",
          "text": [
            "\n"
          ],
          "name": "stdout"
        },
        {
          "output_type": "display_data",
          "data": {
            "application/vnd.jupyter.widget-view+json": {
              "model_id": "db3e25409cae4775a333c0026bfcb07a",
              "version_minor": 0,
              "version_major": 2
            },
            "text/plain": [
              "HBox(children=(FloatProgress(value=0.0, description='Downloading', max=231508.0, style=ProgressStyle(descripti…"
            ]
          },
          "metadata": {
            "tags": []
          }
        },
        {
          "output_type": "stream",
          "text": [
            "\n"
          ],
          "name": "stdout"
        },
        {
          "output_type": "display_data",
          "data": {
            "application/vnd.jupyter.widget-view+json": {
              "model_id": "d1bc18c155f34343b096ea69f834622e",
              "version_minor": 0,
              "version_major": 2
            },
            "text/plain": [
              "HBox(children=(FloatProgress(value=0.0, description='Downloading', max=112.0, style=ProgressStyle(description_…"
            ]
          },
          "metadata": {
            "tags": []
          }
        },
        {
          "output_type": "stream",
          "text": [
            "\n"
          ],
          "name": "stdout"
        },
        {
          "output_type": "display_data",
          "data": {
            "application/vnd.jupyter.widget-view+json": {
              "model_id": "b77169bd38bb4d1f9ebd8f588d80d8e2",
              "version_minor": 0,
              "version_major": 2
            },
            "text/plain": [
              "HBox(children=(FloatProgress(value=0.0, description='Downloading', max=62.0, style=ProgressStyle(description_w…"
            ]
          },
          "metadata": {
            "tags": []
          }
        },
        {
          "output_type": "stream",
          "text": [
            "\n"
          ],
          "name": "stdout"
        },
        {
          "output_type": "stream",
          "text": [
            "Some layers from the model checkpoint at ./drive/My Drive/mmazzola_TwitterCovid/Models/BERT_FineTuned were not used when initializing TFBertForSequenceClassification: ['dropout_189']\n",
            "- This IS expected if you are initializing TFBertForSequenceClassification from the checkpoint of a model trained on another task or with another architecture (e.g. initializing a BertForSequenceClassification model from a BertForPretraining model).\n",
            "- This IS NOT expected if you are initializing TFBertForSequenceClassification from the checkpoint of a model that you expect to be exactly identical (initializing a BertForSequenceClassification model from a BertForSequenceClassification model).\n",
            "Some layers of TFBertForSequenceClassification were not initialized from the model checkpoint at ./drive/My Drive/mmazzola_TwitterCovid/Models/BERT_FineTuned and are newly initialized: ['dropout_111']\n",
            "You should probably TRAIN this model on a down-stream task to be able to use it for predictions and inference.\n"
          ],
          "name": "stderr"
        },
        {
          "output_type": "display_data",
          "data": {
            "application/vnd.jupyter.widget-view+json": {
              "model_id": "6d55a1d8f7514f60903a8cf401af7933",
              "version_minor": 0,
              "version_major": 2
            },
            "text/plain": [
              "HBox(children=(FloatProgress(value=0.0, description='Downloading', max=433.0, style=ProgressStyle(description_…"
            ]
          },
          "metadata": {
            "tags": []
          }
        },
        {
          "output_type": "stream",
          "text": [
            "\n"
          ],
          "name": "stdout"
        },
        {
          "output_type": "display_data",
          "data": {
            "application/vnd.jupyter.widget-view+json": {
              "model_id": "98c1cfa3143747509a4cbbd8f368ffac",
              "version_minor": 0,
              "version_major": 2
            },
            "text/plain": [
              "HBox(children=(FloatProgress(value=0.0, description='Downloading', max=231508.0, style=ProgressStyle(descripti…"
            ]
          },
          "metadata": {
            "tags": []
          }
        },
        {
          "output_type": "stream",
          "text": [
            "\n"
          ],
          "name": "stdout"
        }
      ]
    },
    {
      "cell_type": "markdown",
      "metadata": {
        "id": "_qW9_tIxHpd5"
      },
      "source": [
        "# Compute results"
      ]
    },
    {
      "cell_type": "code",
      "metadata": {
        "id": "PGlxhE8a-VA1",
        "colab": {
          "base_uri": "https://localhost:8080/",
          "height": 66,
          "referenced_widgets": [
            "4e5286b1edf44dbe9c0e34b56627f732",
            "fb852c0edfef48d3ba27251cac89d290",
            "60d1384cdee24833940b404cca37974c",
            "4815d452514a49018f5d5eec76cf40a9",
            "2ff09bc80ac5457dbb92da075e2cbe98",
            "75126e3c27f248b1a053e60b3a7ce727",
            "cac42d98db1e4e559852214ebc872e08",
            "4efeb3e92bd5450f92df86b20189d286"
          ]
        },
        "outputId": "6c8f7275-9203-4d11-e795-dccdf38c9d69"
      },
      "source": [
        "%tensorflow_version 2.x\n",
        "import tensorflow as tf\n",
        "\n",
        "print(\"CT-BERT\")\n",
        "res_covid = []\n",
        "for sent in tqdm(sentences[\"text\"].ravel().tolist()):\n",
        "  try:\n",
        "    res_covid.append(pipe_covid(sent))\n",
        "  except:\n",
        "    print(\"ERROR\",sent)\n",
        "\n",
        "print(\"VADER\")\n",
        "res_vader = []\n",
        "for sent in tqdm(sentences[\"text\"].ravel().tolist()):\n",
        "  try:\n",
        "    res_vader.append(pipe_vader(sent))\n",
        "  except:\n",
        "    print(\"ERROR\",sent)\n",
        "\n",
        "print(\"BERT\")\n",
        "res_vanilla =[]\n",
        "for sent in tqdm(sentences[\"text\"].ravel().tolist()):\n",
        "  try:\n",
        "    res_vanilla.append(pipe_vanilla(sent))\n",
        "  except:\n",
        "    print(\"ERROR\",sent)"
      ],
      "execution_count": null,
      "outputs": [
        {
          "output_type": "stream",
          "text": [
            "CT-BERT\n"
          ],
          "name": "stdout"
        },
        {
          "output_type": "display_data",
          "data": {
            "application/vnd.jupyter.widget-view+json": {
              "model_id": "4e5286b1edf44dbe9c0e34b56627f732",
              "version_minor": 0,
              "version_major": 2
            },
            "text/plain": [
              "HBox(children=(FloatProgress(value=0.0, max=100667.0), HTML(value='')))"
            ]
          },
          "metadata": {
            "tags": []
          }
        }
      ]
    },
    {
      "cell_type": "code",
      "metadata": {
        "id": "FoffeV4jQmtn"
      },
      "source": [
        "df_results = pd.DataFrame([res_covid,res_vader,res_vanilla]).T\n",
        "df_results[\"Date\"] = days\n",
        "\n",
        "df_results.columns=\"CT-BERT,VADER,BERT,DATE\".split(\",\")\n",
        "df_results[\"text\"] = sentences[\"text\"].tolist()\n",
        "df_results.to_csv(\"drive/My Drive/mmazzola_TwitterCovid/benchmark_100k.csv\",sep=\"\\t\")"
      ],
      "execution_count": null,
      "outputs": []
    },
    {
      "cell_type": "markdown",
      "metadata": {
        "id": "rjPEexSTkcpr"
      },
      "source": [
        "## Show results\n",
        "(PROBABLY THERE'S BETTER WAYS)"
      ]
    },
    {
      "cell_type": "code",
      "metadata": {
        "id": "tcqc11sbeMct",
        "colab": {
          "base_uri": "https://localhost:8080/",
          "height": 336
        },
        "outputId": "a0a8239b-06a8-45d5-dcf7-4153da08c3f4"
      },
      "source": [
        "#VADER\n",
        "values = pd.DataFrame()\n",
        "for i in df_results.DATE.unique():\n",
        "  tmp = df_results.loc[df_results[\"DATE\"]==i][\"VADER\"].value_counts()\n",
        "  values = values.append(tmp,[\"VADER\"])\n",
        "\n",
        "values.index = df_results.DATE.unique()\n",
        "values = values.sort_index()\n",
        "plot = values.plot(title=\"Vader Sentiment over time\",figsize=(7,5))\n",
        "\n",
        "fig = plot.get_figure()\n",
        "fig.savefig(\"drive/My Drive/mmazzola_TwitterCovid/Sentiment Analysis/Benchmark/VADER.png\")"
      ],
      "execution_count": null,
      "outputs": [
        {
          "output_type": "display_data",
          "data": {
            "image/png": "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\n",
            "text/plain": [
              "<Figure size 504x360 with 1 Axes>"
            ]
          },
          "metadata": {
            "tags": [],
            "needs_background": "light"
          }
        }
      ]
    },
    {
      "cell_type": "code",
      "metadata": {
        "id": "op2tMcLUfcSZ",
        "colab": {
          "base_uri": "https://localhost:8080/",
          "height": 336
        },
        "outputId": "d3aa8564-960d-4a9f-a41d-f98caf2477cf"
      },
      "source": [
        "#CT BERT\n",
        "values = pd.DataFrame()\n",
        "for i in df_results.DATE.unique():\n",
        "  tmp = df_results.loc[df_results[\"DATE\"]==i][\"CT-BERT\"].value_counts()\n",
        "  values = values.append(tmp,[\"CT-BERT\"])\n",
        "\n",
        "values.index = df_results.DATE.unique()\n",
        "values = values.sort_index()\n",
        "plot = values.plot(title=\"CT-BERT Sentiment over time\",figsize=(7,5))\n",
        "\n",
        "fig = plot.get_figure()\n",
        "fig.savefig(\"drive/My Drive/mmazzola_TwitterCovid/Sentiment Analysis/Benchmark/CT-BERT.png\")"
      ],
      "execution_count": null,
      "outputs": [
        {
          "output_type": "display_data",
          "data": {
            "image/png": "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\n",
            "text/plain": [
              "<Figure size 504x360 with 1 Axes>"
            ]
          },
          "metadata": {
            "tags": [],
            "needs_background": "light"
          }
        }
      ]
    },
    {
      "cell_type": "code",
      "metadata": {
        "id": "H_Bcjh-G2jh4",
        "colab": {
          "base_uri": "https://localhost:8080/",
          "height": 336
        },
        "outputId": "b425da23-3dce-4ce2-dd6c-284356a3ecbd"
      },
      "source": [
        "#CT BERT\n",
        "values = pd.DataFrame()\n",
        "for i in df_results.DATE.unique():\n",
        "  tmp = df_results.loc[df_results[\"DATE\"]==i][\"BERT\"].value_counts()\n",
        "  values = values.append(tmp,[\"BERT\"])\n",
        "\n",
        "values.index = df_results.DATE.unique()\n",
        "values = values.sort_index()\n",
        "plot = values.plot(title=\"BERT-unchased Sentiment over time\",figsize=(7,5))\n",
        "\n",
        "fig = plot.get_figure()\n",
        "fig.savefig(\"drive/My Drive/mmazzola_TwitterCovid/Sentiment Analysis/Benchmark/BERT.png\")"
      ],
      "execution_count": null,
      "outputs": [
        {
          "output_type": "display_data",
          "data": {
            "image/png": "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\n",
            "text/plain": [
              "<Figure size 504x360 with 1 Axes>"
            ]
          },
          "metadata": {
            "tags": [],
            "needs_background": "light"
          }
        }
      ]
    },
    {
      "cell_type": "markdown",
      "metadata": {
        "id": "ydzxvD2yiORu"
      },
      "source": [
        "## Look into **texts**"
      ]
    },
    {
      "cell_type": "code",
      "metadata": {
        "id": "OSxACNwVhEd3"
      },
      "source": [
        "df_results[\"text\"] = sentences.dropna()[\"text\"].tolist()"
      ],
      "execution_count": null,
      "outputs": []
    },
    {
      "cell_type": "code",
      "metadata": {
        "id": "gHcgI3_9iNvx",
        "colab": {
          "base_uri": "https://localhost:8080/"
        },
        "outputId": "a396a14e-ccb4-4472-931d-cfd83f7be057"
      },
      "source": [
        "df_results.loc[df_results[0]==\"POSITIVE\"][\"text\"].ravel()"
      ],
      "execution_count": null,
      "outputs": [
        {
          "output_type": "execute_result",
          "data": {
            "text/plain": [
              "array([\"I knew saving those masks from the doctors' office was a good idea. I just hope this doesn't turn into a pandemic. # coronavirus\",\n",
              "       'Lord, we trust in You! KEEP SAFE EVERYONE # CoronaVirus pic.twitter.com/I3biTh5OVN',\n",
              "       'i crack myself up. # coronavirus pic.twitter.com/ki8f1SxumG',\n",
              "       'This new coronavirus sounds delicious. A lime please.',\n",
              "       \"China's swift ID of a new virus is a win for public health A new mysterious illness with the culprit: a member of the coronavirus family that has never been seen before in humans. https://www.wired.com/story/chinas-swift-id-of-a-new-virus-is-a-win-for-public-health/?utm_source=nl&utm_brand=wired&utm_mailing=WIR_TechinTwo_011320&utm_campaign=aud-dev&utm_medium=email&bxid=5dffd464a777395c790bc57e&cndid=59461596&esrc=bounceX&source=EDT_WIR_NEWSLETTER_0_TECH_IN_TWO_ZZ&utm_term=WIR_TechInTwo …pic.twitter.com/w8vWMQVGyb\",\n",
              "       'Chinese health authorities, for the first time, have said it is possible that the new coronavirus which has sparked fears of anoutbreak as hundreds of millions begin travelling in China and outside for the upcoming Chinese New Year (CNY) holidays # announhttps://www.bigyack.com/humans-could-become-vectors-for-new-coronavirus-but-risk-low-say-china-health-authorities-world-news …',\n",
              "       'I am concerned about corona virus + Chinese news year situation. It is the perfect storm for turning a manageable disease into a pandemic. But it also is not something I can do anything about.',\n",
              "       '# 10km3x2 map new diseases # coronavirus | China virus outbreak of Wuhan pneumonia could spread between humans officials say today as US warns travelers - CBS News https://www.cbsnews.com/news/china-virus-outbreak-wuhan-pneumonia-could-spread-between-humans-today-us-warns-travelers-2020-01-15/ …',\n",
              "       'Mmmm CDC expected to announce first US case of Wuhan coronavirus https://www.cnn.com/2020/01/21/health/wuhan-coronavirus-first-us-case-cdc-bn/index.html …',\n",
              "       'Some airport travelers are being screened for coronavirus. https://cbsloc.al/36bjQ1v',\n",
              "       'WHO expects further spread of new coronavirus in China http://feeds.reuters.com/~r/Reuters/worldNews/~3/lVZtyiq1Bys/who-expects-further-spread-of-new-coronavirus-in-china-idUSKBN1ZK112?id=npWamtT2a …',\n",
              "       'Health and Medical news: Human-to-human transmission of new coronavirus reported in China https://www.trendard.com/health-and-medical-news-human-to-human-transmission-of-new-coronavirus-reported-in-china/ …pic.twitter.com/ur4Fh7l5OU',\n",
              "       '\"WHO issues warning after \\'mysterious\\' Chinese coronavirus spreads to Japan\" https://twitter.com/i/events/1217928133917044736 … Made in China',\n",
              "       ' Good morning sir, As you know the Coronavirus in China has been confirm to be human transmitted, I would love you 2 use your good office and put out a screening center for any 1 coming tru MM2 . And please tell the federal government too.',\n",
              "       \"I think I've got that Coronavirus. I had twelve bottles of it last night and I feel like I'm dying.\",\n",
              "       'Symptoms are consistent with the Chinese coronavirus https://uk.news.yahoo.com/british-tourist-struck-down-by-mystery-bug-feared-to-be-coronavirus-184935696.html …',\n",
              "       'Corona virus -Just the basics: The new coronavirus outbreak https://eu-digest.blogspot.com/2020/01/just-basics-new-coronavirus-outbreak.html …',\n",
              "       '“Snohomish County, Washington State with the Wuhan coronavirus, according to the CDC.” https://www.cnbc.com/2020/01/21/cdc-to-announce-first-us-case-of-china-coronavirus-that-has-killed-6-cnn-reports.html …',\n",
              "       'Interesting read: China’s post-Sars system may explain the delays in reporting new # coronavirus cases https://www.scmp.com/news/china/society/article/3046913/chinas-post-sars-reporting-system-may-explain-long-delays … via ',\n",
              "       'Coronavirus spread may be unstoppable as Chinese New Year sparks THREE BILLION trips and ‘super-spreaders’ fuel crisis https://wustoo.com/2020/01/21/coronavirus-spread-may-be-unstoppable-as-chinese-new-year-sparks-three-billion-trips-and-super-spreaders-fuel-crisis/ …',\n",
              "       'Requesting help for a friend of the band! https://www.impactguru.com/fundraiser/donate-to-preeti-maheshwari … The sister of a friend of ours is in need of immediate and urgent help. She is infected by the corona virus, Type 1 and is on life support in Shekou Hospital in Schenzen, China.',\n",
              "       'The death toll from a mysterious flu-like virus in # China climbed to six on Jan.21 as new cases surged beyond 300 and authorities fretted about the added risk from millions of Chinese travelling for the # LunarNewYear holiday. # CoronaVirus # Corona # Lunar # ChineseNewYear2020pic.twitter.com/tUUA7bI3j9',\n",
              "       'The head of a Chinese government expert team says human-to-human transmission has been confirmed in an outbreak of a new coronavirus. https://bit.ly/2THaDeM',\n",
              "       '# Travel Is # Canada # Vancouver # Toronto # Montreal airport taking any easure to stop travelers spreading the # virus and doing what it takes to supervise # coronavirus coming from # Japan # China # Thailand?',\n",
              "       'National Health Commission sends working groups to provinces across the country http://dlvr.it/RNM54H # chinapneumonia # coronavirus # nCov2019',\n",
              "       'Another Chinese patient with new coronavirus quarantined https://bit.ly/35XM27L # ThailandNewspic.twitter.com/NlyCk7nKeZ',\n",
              "       'Protwinleri # coronavirus https://twitter.com/darwinbandoy/status/1215848740394717185?s=21 …https://twitter.com/darwinbandoy/status/1215848740394717185 …',\n",
              "       'Deadly virus from China spreads to US, CDC says. Five things to know about coronavirus https://trib.al/j3JYVpJ',\n",
              "       'Fears of China’s Coronavirus Prompt Australia to Screen Flights https://goo.gl/vimo4m # Newyork # America # newspic.twitter.com/LnWwIRys8X',\n",
              "       'China confirms six deaths, 291 cases of new coronavirus officials say transmits between humans | CTV News # coronavirus https://www.ctvnews.ca/health/coronavirus-claims-sixth-victim-as-anxiety-rises-in-china-overseas-1.4776380 …',\n",
              "       'Al Jazeera English · http://ALJAZEERA.COM China confirms human-to-human transmission of new coronavirus \"It can be said it is affirmative that there is the phenomenon of human-to-human transmission,\" which could make the virus spread more quickly and widely - Zhong Nanshan, https://twitter.com/mqasem/status/1219413493071388672 …',\n",
              "       'the coronavirus just hit America and we’re deadass tweeting about tour dates and ticket sales I’m-',\n",
              "       'China Confirms New Coronavirus Spreads From Humans to Humans https://www-nytimes-com.cdn.ampproject.org/v/s/www.nytimes.com/2020/01/20/world/asia/coronavirus-china-symptoms.amp.html?amp_js_v=a2&amp_gsa=1#referrer=https%3A%2F%2Fwww.google.com&amp_tf=From%20%251%24s&ampshare=https%3A%2F%2Fwww.nytimes.com%2F2020%2F01%2F20%2Fworld%2Fasia%2Fcoronavirus-china-symptoms.html/?gclid=2inetHealth …',\n",
              "       'TRANSMITTED PERSON TO PERSON I Yesterday, health officials in China said they believed the coronavirus was transmitted from close contact with animals. Now, they believe the highly contagious, and now fatal virus, can be transmitted from person to person. https://www.nbcdfw.com/news/national-international/coronavirus-spreads-in-china-week-before-lunar-new-year/2295687/ …',\n",
              "       'COULD THIS BE THE PANDEMIC WE HAVE ALL BEEN DREADING? WILL THIS KILL OFF HALF THE HUMAN POPULATION? Coronavirus: more cases and second death reported in China https://www.theguardian.com/world/2020/jan/17/corona-second-death-in-china-after-sars-like-outbreak?CMP=share_btn_tw …',\n",
              "       'Reports of first case of # Wuhan coronavirus in WA state https://www.nytimes.com/2020/01/21/health/cdc-coronavirus.html?smid=nytcore-ios-share … via ',\n",
              "       'China says coronavirus can pass person-to-person; WHO calls emergency meeting ://www.cnbc.com/2020/01/21/china-coronavirus-human-to-human-transmission-confirmed.html?__source=iosappshare%7Ccom.apple.UIKit.activity.PostToTwitter …',\n",
              "       'First confirmed coronavirus case identified in the US https://twitter.com/i/events/1219687502237167616 …',\n",
              "       \"A new virus is in town! it's a coronavirus and responsible for food-related infection. Reported in China. https://twitter.com/WHO/status/1216108498188230657 …\",\n",
              "       '1 China patientof corona virus if IMRAN on his Aiyar like CHINA trip could end \"SHAHEEN BAGH\"if not fixing sick-contagiousHOPE SUPREME COURT acts for flu season epidemic when it was very COLD winter. Force cancellation of election in that area without \"ELECTION Commission\". https://twitter.com/PrannoyRoyNDTV/status/1218900375710814209 …pic.twitter.com/tHUrO5nhWi',\n",
              "       'CDC confirms first US case of China coronavirus https://www.stltoday.com/news/national/cdc-confirms-first-us-case-of-china-coronavirus/article_71990a7b-a7f9-59a4-b8ac-80db907999ea.html?utm_medium=social&utm_source=twitter&utm_campaign=user-share … via ',\n",
              "       'I thought the Chief Health Officer was an apolitical official? I\\'ve just heard him talking about a # coronavirus research group being \"funded by the Coalition\" in an interview on  No, pal, they\\'re funded by the taxpayer or the government. # auspol',\n",
              "       '19 Jan 2020 Novel coronavirus (09): China, 1st diagnostic test via  http://www.promedmail.org/post/6897998',\n",
              "       'Unfollow me if the new coronavirus update retweets are going to annoy you. They will continue.',\n",
              "       '70% similarity to SARS, another ssRNA # coronavirus. Identification and isolation of this novel pathogen was rapid, tech has improved substantially. https://twitter.com/WPCION/status/1219654704885575680 …',\n",
              "       'Coronavirus is easily treatable with antibiotics and rest in cats, especially if caught early. Human docs weigh in?',\n",
              "       'The Dow dropped nearly 200 points on reports of the first case of the Wuhan coronavirus in the United States https://cnn.it/37e2Fxq',\n",
              "       \"# China's health authorities identified 17 new cases of # pneumonia caused by # coronavirus, a novel strain had been detected in the central city of Wuhan. https://www.medindia.net/news/chinas-viral-pneumonia-outbreak-grows-17-new-cases-reported-192623-1.htm …\",\n",
              "       'First # coronavirus case confirmed in United States A # US citizen who recently returned from a trip to central China has been diagnosed with the new # virus that has sparked an # outbreak and stringent monitoring around the world. https://www.ctvnews.ca/health/first-coronavirus-case-confirmed-in-united-states-1.4777218 …pic.twitter.com/KS8nSHjgU8',\n",
              "       'Watch out for China virus 2019-The virus, known also as 2019-nCoV, AKA; coronavirus',\n",
              "       'The relation between coronavirus and market is unbelievable...',\n",
              "       '\"Wuhan, the sprawling capital of central China\\'s Hubei province, is the epicentre of the coronavirus with 198 cases – and visitors arriving from the city will face extra scrutiny.\" https://au.news.yahoo.com/fears-coronavirus-could-spread-to-australia-035238361.html …',\n",
              "       'Japan confirms first case of new China coronavirus strain https://www.theguardian.com/world/2020/jan/16/japan-confirms-first-case-of-new-china-coronavirus-strain?utm_term=Autofeed&CMP=soc_568&utm_medium=Social&utm_source=Twitter#Echobox=1579154751 …',\n",
              "       'Coronavirus explained: What you need to know https://www.cnn.com/2020/01/20/health/what-is-coronavirus-explained/index.html … https://www.instagram.com/p/B7kSrO7Bq5-/?igshid=1uxswnu499wcy …',\n",
              "       'Tourism to North Korea suspended amid China coronavirus concerns: operator https://www.nknews.org/2020/01/tourism-suspended-to-north-korea-amid-china-coronavirus-concerns-ypt/ …',\n",
              "       '# TDP # China50 # Asia # coronavirus -hit hard, alongside # HangSengpic.twitter.com/15WHTjXtTq',\n",
              "       'Coronavirus reported in Washington state https://www.fox21news.com/news/national/coronavirus-reported-in-washington-state/ …',\n",
              "       'Countries around world gear up response to new coronavirus https://ktar.com/story/2930569/countries-around-world-gear-up-response-to-new-coronavirus/ …',\n",
              "       '# coronavirus 28 weeks later pic.twitter.com/BdJwSnPvdS',\n",
              "       \"China's originated # coronavirus spread to US putting more pressure on health officials to contain an outbreak that has infected several hundred in Asia and spread to five countries. More than 300 infected & 6 dead till date.  ://www.bloomberg.com/news/articles/2020-01-21/china-virus-s-spread-puts-global-health-officials-on-high-alert …\",\n",
              "       '1st Case Of New Coronavirus Detected In U.S. https://www.wfdd.org/story/1st-case-new-coronavirus-detected-us …pic.twitter.com/IxluV2Jfd8',\n",
              "       '\"A man in Washington state has been diagnosed with the mysterious virus that began last month in China, becoming the first case confirmed in the United States\" # Coronavirus # China # WHO # CDC # POTUS # QAnon # KAGhttps://www.washingtonpost.com/health/2020/01/21/coronavirus-us-case/ …',\n",
              "       'Coronavirus: Chinese hospitals not testing patients, say relatives https://www.theguardian.com/world/2020/jan/21/coronavirus-chinese-hospitals-not-testing-patients-say-relatives?CMP=Share_iOSApp_Other …',\n",
              "       'New coronavirus may \"infect\" China\\'s decelerating economy http://dlvr.it/RNGGD7 pic.twitter.com/AO3bH471i5',\n",
              "       'Fears of China’s Coronavirus Prompt Australia to Screen Flights pic.twitter.com/XfxDvdoRWt',\n",
              "       'Breaking # FoxNews Alert : First case of China-linked coronavirus reported in US, federal officials say',\n",
              "       'The antidote to # coronavirus is lime.',\n",
              "       'China reports second death from mystery coronavirus http://zpr.io/thVpi # SHTF # Preppingpic.twitter.com/GS6Lyd9eDG',\n",
              "       'New China Coronavirus Could Spread, Says WHO, Warns Hospitals Worldwide https://www.ndtv.com/world-news/new-china-coronavirus-could-spread-says-who-warns-hospitals-worldwide-2164093 …',\n",
              "       'Human-to-human transmission confirmed in China coronavirus. https://bit.ly/30D2CJ4 pic.twitter.com/L43WzXOfem',\n",
              "       'Release Today, Click to Watch. Subscribe Channel https://youtu.be/vekHdUBbh_U # ufm # uniquefilmmakers # وزير_التعليم_في_الصوره # coronavirus # calonmenantuidaman # الفيصلي_الهلال # VirginiaRally # تعديل # صداره_بس # BlueMonday # อยู่กับคุณพี่เก้าอี้ไม่ต้อง # Missguided # RealTigerAsim # dolarpic.twitter.com/W4GnBFu946',\n",
              "       \"D.MAIL China's contagious killer virus comes to the US: American man in his 30s is hospitalized in Washington state with SARS-like coronavirus after v… https://www.therussophile.org/d-mail-chinas-contagious-killer-virus-comes-to-the-us-american-man-in-his-30s-is-hospitalized-in-washington-state-with-sars-like-coronavirus-after-v.html/ …pic.twitter.com/eDhLqa5oOX\",\n",
              "       'A team of researchers at Charité – Universitätsmedizin Berlin (Germany) have developed the first publicly available diagnostic assay to detect the 2019 novel Chinese coronavirus. Read the full story here http://bit.ly/30wyOh3',\n",
              "       'wash your hands people! CDC confirms first U.S. case of China coronavirus https://www.reuters.com/article/us-china-health-usa-idUSKBN1ZK2FF … # SmartNews',\n",
              "       'There’s now evidence that the # coronavirus is spreading between humans. Healthcare workers in particular must take more precautions. Good to see  at # KLIA recently to check on systems to screen inbound passengers. Hopefully similar precautions taken nationwide.https://twitter.com/CNN/status/1219399217246064643 …',\n",
              "       'Might make more sense to test BEFORE they got on a plane. # coronavirus https://twitter.com/howroute/status/1219285703798022147 …',\n",
              "       \"Have been following alerts of a new (!) coronavirus outbreak and I'm concerningly excited about it. Of course, I hope it's a low CMR and that it's contained rapidly with as few fatalities as possible. But still, pic.twitter.com/SHbax12iv1\",\n",
              "       'That looks like a new thriller novel called Coronavirus.',\n",
              "       '15 medical workers in the city were diagnosed with pneumonia caused by the novel coronavirus (2019-nCoV), plus one suspected case. https://twitter.com/XHNews/status/1219426222226231302 …',\n",
              "       'US Reports First Case Of New Coronavirus That Emerged In China https://www.ndtv.com/world-news/us-reports-first-case-of-new-wuhan-coronavirus-that-emerged-in-china-2167667 … # NDTVNewsBeepspic.twitter.com/iMaWTsi1hM',\n",
              "       'China announces 3rd death. # coronavirus # nCoV2019 # nCoV # Wuhan as # LunarNewYear approachinghttps://twitter.com/AJEnglish/status/1219069704653934592 …',\n",
              "       'CDC expected to announce first US case of Wuhan coronavirus - CNN \\u2066  \\u2066  \\u2066  https://apple.news/AK7P_RseLRYmofVg6L894Xg …',\n",
              "       'First case of new coronavirus reported outside China https://bbc.in/30hyy5J',\n",
              "       'Officials in China’s Wuhan city revealed that another man had died after being infected by the coronavirus. # China # corona_virus # TheNationThailandhttps://www.nationthailand.com/news/30380691',\n",
              "       'South Korea confirms first case of new coronavirus in Chinese visitor https://www.articletrunk.com/south-korea-confirms-first-case-of-new-coronavirus-in-chinese-visitor/ …',\n",
              "       \"IN USA C'E' UN PRIMO CASO DI INFEZIONE DEL CORONA VIRUS CINESE SCOPERTO A WUHAN http://ow.ly/kmWK1027d55 pic.twitter.com/AplLibeEkn\",\n",
              "       'Third case of Wuhan virus suspected in Singapore; local man with pneumonia isolated | World | Malay Mail http://dlvr.it/RNPD5g # chinapneumonia # coronavirus # nCov2019pic.twitter.com/2XgdR1eXVQ',\n",
              "       'Im not worried about the # coronavirus I drink Bud Light pic.twitter.com/O0nbNtnday',\n",
              "       'I just published Coronavirus https://link.medium.com/dFZEC4k1m3',\n",
              "       'If you are interested in public health or infectious disease, be sure to watch how this unfolds. # HMB342 # coronavirus https://twitter.com/SRileyIDD/status/1217780020665556992 …',\n",
              "       'Will the virus spread? Q&A by FT. # coronavirus # WuhanPneumonia # China https://www.ft.com/content/7a80b8c6-362c-11ea-a6d3-9a26f8c3cba4 … via ',\n",
              "       'What a coincidence that the Coronavirus emerges right around the lunar new year when travel to and from china is at its height. totally not on purpose.',\n",
              "       'Human-to-human transmission confirmed in new coronavirus outbreak in China http://fox5dc.com/news/human-to-human-transmission-confirmed-in-new-coronavirus-outbreak-in-china …',\n",
              "       '18 Jan 2020 Novel coronavirus (08): China (HU) more cases, Nepal susp, modeling via  http://www.promedmail.org/post/6897282',\n",
              "       'First U.S. case of potentially deadly Chinese coronavirus confirmed in Washington state - The Washington Post http://dlvr.it/RNTkqd',\n",
              "       '            To President of United States: The current Corona Virus, originating in Wuhan China is a danger to entire world. Viruses Mr President have No Official Scientific Cure!',\n",
              "       'Lived in # Toronto during the # SARS outbreak... it was not pretty... # healthcare # coronavirus https://www.nbcnews.com/news/amp/ncna1115376 …',\n",
              "       'Good to see Canadian hospitals and airports putting in place enhanced infection-control measures for # coronavirus. # cdnpoli https://www.theglobeandmail.com/canada/article-canadian-hospitals-airports-preparing-for-possible-arrival-of-sars/ …',\n",
              "       'CDC confirms first U.S. case of China coronavirus https://www.newsbreakapp.com/n/0NuHiLrA?pd=0394a2gr&s=i2 …'],\n",
              "      dtype=object)"
            ]
          },
          "metadata": {
            "tags": []
          },
          "execution_count": 128
        }
      ]
    },
    {
      "cell_type": "code",
      "metadata": {
        "id": "7QrScde7i1TQ",
        "colab": {
          "base_uri": "https://localhost:8080/"
        },
        "outputId": "76f9b50c-03b1-4fb4-c6e7-e2a7434e77e5"
      },
      "source": [
        "df_test[[\"text\",\"text_con_hashtag\"]].iloc[3].ravel()"
      ],
      "execution_count": null,
      "outputs": [
        {
          "output_type": "execute_result",
          "data": {
            "text/plain": [
              "array(['Not influenza (flu) but a coronavirus, which is one of the viruses that causes the common cold but also SARS and MERS. Initial sequencing shows this virus to be distinct but clustering with SARS: pic.twitter.com/BV3UdZ3chM',\n",
              "       'Not influenza (flu) but a coronavirus, which is one of the viruses that causes the common cold but also SARS and MERS. Initial sequencing shows this virus to be distinct but clustering with SARS: pic.twitter.com/BV3UdZ3chM'],\n",
              "      dtype=object)"
            ]
          },
          "metadata": {
            "tags": []
          },
          "execution_count": 135
        }
      ]
    },
    {
      "cell_type": "markdown",
      "metadata": {
        "id": "KNuyolKac1Us"
      },
      "source": [
        "# TESTING ACCURACY "
      ]
    },
    {
      "cell_type": "code",
      "metadata": {
        "id": "9J5YTjzOcFn_",
        "colab": {
          "base_uri": "https://localhost:8080/"
        },
        "outputId": "5619558e-3eed-41ff-86ff-e2aee1efe243"
      },
      "source": [
        "# VADER\n",
        "fine_vader = []\n",
        "for i in df.Text.ravel().tolist():\n",
        "  fine_vader.append(pipe_vader(i))\n",
        "\n",
        "fine_vader = [x.lower() for x in fine_vader]\n",
        "accuracy = [x for x,y in zip(df.Target.ravel().tolist(),fine_vader) if x==y]\n",
        "\n",
        "accuracy_vader = len(accuracy)/len(df)\n",
        "print(\"Accuracy Vader\",accuracy_vader)"
      ],
      "execution_count": null,
      "outputs": [
        {
          "output_type": "stream",
          "text": [
            "Accuracy Vader 0.5309087854863094\n"
          ],
          "name": "stdout"
        }
      ]
    },
    {
      "cell_type": "markdown",
      "metadata": {
        "id": "HEishM18rAxp"
      },
      "source": [
        "# PLAYGROUND (no experimental purposes)"
      ]
    },
    {
      "cell_type": "code",
      "metadata": {
        "id": "QmAXJyFlMgOr"
      },
      "source": [
        "# ==========================================================================\n",
        "input_texts =[\"wear a mask!\",\n",
        "             \"You son of a bitch wear a mask\",\n",
        "             \"I'm happy that you're wearing a mask\",\n",
        "             \"Wear a mask and respect the pandemic!\",\n",
        "             \"I'm so sad to wear a mask\",\n",
        "             \"happy little clouds\",\n",
        "             \"i hate covid my son was killed by it! it killing people\",\n",
        "             \"today is a good day!\",\n",
        "             \"We are very happy to show you the 🤗 Transformers library.\"]\n",
        "\n",
        "df_res = pd.DataFrame()\n",
        "for text in input_texts:\n",
        "  input_ids = tf.constant(tokenizer.encode(text, add_special_tokens=True))[None, :]\n",
        "  preds_encoded = model(input_ids)\n",
        "  preds = tf.nn.softmax(preds_encoded[0], axis=1)\n",
        "  df_res = df_res.append(pd.Series(preds.numpy()[0]),ignore_index=True)\n",
        "\n",
        "df_res.columns= \"Negative,Neutral,Positive\".split(\",\")\n",
        "df_res.index=input_texts\n",
        "df_res\n",
        "# ==========================================================================\n",
        "\n",
        "sentences = [\"wear a mask!\",\n",
        "             \"You son of a bitch wear a mask\",\n",
        "             \"I'm happy that you're wearing a mask\",\n",
        "             \"Wear a mask and respect the pandemic!\",\n",
        "             \"I'm so sad to wear a mask\",\n",
        "             \"happy little clouds\",\n",
        "             \"i hate covid my son was killed by it! it killing people\",\n",
        "             \"today is a good day!\",\n",
        "             \"We are very happy to show you the 🤗 Transformers library.\"]\n",
        "\n",
        "def preprocess_output(pipe,string,vader=False):\n",
        "  if vader:\n",
        "    score = pipe_vader.polarity_scores(string)[\"compound\"]\n",
        "    label = \"positive\" if score > 0.05 else \"negative\"\n",
        "  else:\n",
        "    string = emoji.demojize(string)\n",
        "    out = pipe(string)[0]\n",
        "    if out[\"label\"] in [\"LABEL_0\",\"LABEL_1\"]:\n",
        "      label = \"positive\" if out[\"label\"] == \"LABEL_0\" else \"negative\"\n",
        "    else:\n",
        "      label = out[\"label\"]\n",
        "\n",
        "    score = out[\"score\"]\n",
        "  return label,score\n",
        "\n",
        "for sentence in sentences:\n",
        "\n",
        "  label_covid,score_covid = preprocess_output(pipe_covid,sentence)\n",
        "\n",
        "  label_vanilla,score_vanilla = preprocess_output(pipe_vanilla,sentence)\n",
        "\n",
        "  label_vader,score_vader = preprocess_output(pipe_vader,sentence,vader=True)\n",
        "\n",
        "  print(\"SCORES:\\n\",sentence,\"\\n\",label_covid,score_covid,\"\\n\",label_vanilla,score_vanilla,\"\\n\",label_vader, score_vader)"
      ],
      "execution_count": null,
      "outputs": []
    }
  ]
}
